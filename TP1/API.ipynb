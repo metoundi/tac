{
 "cells": [
  {
   "cell_type": "markdown",
   "id": "1dda6291-76b0-4bd6-a7a0-2e50ad9e18f1",
   "metadata": {},
   "source": [
    "# APIs: requêtes HTTP"
   ]
  },
  {
   "cell_type": "markdown",
   "id": "48153b5e-2dda-46f7-a6a0-7cc46d6e458e",
   "metadata": {},
   "source": [
    "## Imports"
   ]
  },
  {
   "cell_type": "code",
   "execution_count": 3,
   "id": "7450a62a-75ec-46bf-94a1-95b861f0b423",
   "metadata": {},
   "outputs": [],
   "source": [
    "import json\n",
    "import requests"
   ]
  },
  {
   "cell_type": "markdown",
   "id": "76aabe06-0b65-4ebf-b792-430206fad501",
   "metadata": {},
   "source": [
    "## Utiliser [Nominatim](https://nominatim.org/) pour connaître les coordonnées géographiques du siège du journal LeSOIR"
   ]
  },
  {
   "cell_type": "code",
   "execution_count": 22,
   "id": "3c7dbb07-1927-42d4-a333-cdd11c01a65b",
   "metadata": {},
   "outputs": [
    {
     "name": "stdout",
     "output_type": "stream",
     "text": [
      "100, Rue Royale - Koningsstraat, Bruxelles - Brussel, Ville de Bruxelles - Stad Brussel, Brussel-Hoofdstad - Bruxelles-Capitale, Région de Bruxelles-Capitale - Brussels Hoofdstedelijk Gewest, 1000, België / Belgique / Belgien (50.8480755 - 4.3628247)\n"
     ]
    }
   ],
   "source": [
    "address = \"Rue Royale 100, 1000 Bruxelles\"\n",
    "\n",
    "\"\"\"Retrieve coordinates from Open Street Map\"\"\"\n",
    "url = \"https://nominatim.openstreetmap.org/search\"\n",
    "data = {'q': address, 'format': 'json'}\n",
    "resp = requests.get(url, data)\n",
    "json_list = json.loads(resp.text)\n",
    "for item in json_list:\n",
    "    display_name = item['display_name']\n",
    "    short_name = display_name.split(\", \")[0]\n",
    "    lat = item['lat']\n",
    "    lon = item['lon']\n",
    "    print(f\"{display_name} ({lat} - {lon})\")\n"
   ]
  },
  {
   "cell_type": "markdown",
   "id": "c2f5c644-189f-49c5-a98c-0d637856538d",
   "metadata": {},
   "source": [
    "https://restcountries.com/"
   ]
  },
  {
   "cell_type": "markdown",
   "id": "81be2ab9-01a4-4496-b54b-b1bcea761c48",
   "metadata": {},
   "source": [
    "- Les API Rest: https://towardsdatascience.com/introduction-to-rest-apis-90b5d9676004\n",
    "- La librairie [`requests`](https://requests.readthedocs.io/en/latest/)\n",
    "- Développer une API en Python : https://openclassrooms.com/en/courses/4525361-realisez-un-dashboard-avec-tableau/5774811-creez-une-api-avec-flask"
   ]
  }
 ],
 "metadata": {
  "kernelspec": {
   "display_name": "Python 3 (ipykernel)",
   "language": "python",
   "name": "python3"
  },
  "language_info": {
   "codemirror_mode": {
    "name": "ipython",
    "version": 3
   },
   "file_extension": ".py",
   "mimetype": "text/x-python",
   "name": "python",
   "nbconvert_exporter": "python",
   "pygments_lexer": "ipython3",
   "version": "3.9.15"
  }
 },
 "nbformat": 4,
 "nbformat_minor": 5
}
