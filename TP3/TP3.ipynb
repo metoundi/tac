{
 "cells": [
  {
   "cell_type": "markdown",
   "id": "17cdb2f7-14a3-42e3-8eac-0108b645673f",
   "metadata": {},
   "source": [
    "# Clustering de documents"
   ]
  },
  {
   "cell_type": "markdown",
   "id": "df3cc3e6-ce43-4d62-9a3f-3e6f7c1ef495",
   "metadata": {},
   "source": [
    "## Imports"
   ]
  },
  {
   "cell_type": "code",
   "execution_count": 1,
   "id": "6745d252-7ad3-481c-8b74-1210acae9b34",
   "metadata": {},
   "outputs": [
    {
     "name": "stderr",
     "output_type": "stream",
     "text": [
      "[nltk_data] Downloading package stopwords to /root/nltk_data...\n",
      "[nltk_data]   Unzipping corpora/stopwords.zip.\n"
     ]
    },
    {
     "data": {
      "text/plain": [
       "True"
      ]
     },
     "execution_count": 1,
     "metadata": {},
     "output_type": "execute_result"
    }
   ],
   "source": [
    "import collections\n",
    "import os\n",
    "import string\n",
    "import sys\n",
    "\n",
    "import pandas as pd\n",
    "from nltk import word_tokenize\n",
    "from nltk.corpus import stopwords\n",
    "from pprint import pprint\n",
    "from sklearn.cluster import KMeans\n",
    "from sklearn.feature_extraction.text import TfidfVectorizer\n",
    "from sklearn.decomposition import PCA\n",
    "import numpy as np\n",
    "import matplotlib.pyplot as plt\n",
    "from scipy.spatial.distance import cosine\n",
    "import matplotlib.pyplot as plt\n",
    "from nltk.corpus import stopwords\n",
    "import seaborn as sn\n",
    "from pprint import pprint\n",
    "import numpy as np\n",
    "from sklearn.datasets import fetch_20newsgroups\n",
    "from sklearn.model_selection import train_test_split\n",
    "from sklearn.naive_bayes import MultinomialNB\n",
    "from sklearn.pipeline import Pipeline\n",
    "from sklearn.feature_extraction.text import TfidfVectorizer\n",
    "from sklearn.metrics import confusion_matrix, classification_report\n",
    "from scikitplot.metrics import plot_confusion_matrix\n",
    "import pandas as pd\n",
    "import re\n",
    "import operator\n",
    "import nltk\n",
    "nltk.download('stopwords')"
   ]
  },
  {
   "cell_type": "code",
   "execution_count": 2,
   "id": "eb7ac351-22a9-4a40-9179-68a8347731f7",
   "metadata": {},
   "outputs": [
    {
     "name": "stderr",
     "output_type": "stream",
     "text": [
      "[nltk_data] Downloading package punkt to /root/nltk_data...\n",
      "[nltk_data]   Unzipping tokenizers/punkt.zip.\n"
     ]
    },
    {
     "data": {
      "text/plain": [
       "True"
      ]
     },
     "execution_count": 2,
     "metadata": {},
     "output_type": "execute_result"
    }
   ],
   "source": [
    "import nltk\n",
    "\n",
    "nltk.download('punkt')"
   ]
  },
  {
   "cell_type": "code",
   "execution_count": 3,
   "id": "1201f0e6-71c4-4717-8048-e8e39f325588",
   "metadata": {},
   "outputs": [],
   "source": [
    "data_path = \"../data/txt/\""
   ]
  },
  {
   "cell_type": "markdown",
   "id": "4405de3f-4d29-4ed1-9c59-6744d58a743c",
   "metadata": {},
   "source": [
    "## Choisir une décennie"
   ]
  },
  {
   "cell_type": "code",
   "execution_count": 4,
   "id": "b2b8591e-33bb-4d68-a195-73b5b88906fc",
   "metadata": {},
   "outputs": [],
   "source": [
    "DECADE = '1890'"
   ]
  },
  {
   "cell_type": "markdown",
   "id": "60f5d3cd-249f-4065-b814-3ed99dffe8c4",
   "metadata": {},
   "source": [
    "## Charger tous les  fichiers de la décennie et en créer une liste de textes"
   ]
  },
  {
   "cell_type": "code",
   "execution_count": 5,
   "id": "9cec950e-7e72-4cf8-ae11-e5803d21f3b7",
   "metadata": {},
   "outputs": [],
   "source": [
    "files = [f for f in sorted(os.listdir(data_path)) if f\"_{DECADE[:-1]}\" in f]"
   ]
  },
  {
   "cell_type": "code",
   "execution_count": 6,
   "id": "3739294d-65f5-46d2-b74c-4b24d78c1b72",
   "metadata": {},
   "outputs": [
    {
     "data": {
      "text/plain": [
       "['KB_JB230_1892-08-07_01-0003.txt',\n",
       " 'KB_JB258_1894-12-09_01-0003.txt',\n",
       " 'KB_JB421_1899-05-15_01-00003.txt',\n",
       " 'KB_JB555_1899-01-19_01-00003.txt',\n",
       " 'KB_JB567_1892-01-03_01-00005.txt']"
      ]
     },
     "execution_count": 6,
     "metadata": {},
     "output_type": "execute_result"
    }
   ],
   "source": [
    "# Exemple de fichiers\n",
    "files[:5]"
   ]
  },
  {
   "cell_type": "code",
   "execution_count": 7,
   "id": "4cda07d3-69d5-4bfd-92f3-d6ff0577dda8",
   "metadata": {},
   "outputs": [],
   "source": [
    "texts = [open(data_path + f).read() for f in files]"
   ]
  },
  {
   "cell_type": "code",
   "execution_count": 8,
   "id": "e849cd73-19aa-408a-8db0-2d3532de89c9",
   "metadata": {},
   "outputs": [
    {
     "data": {
      "text/plain": [
       "\"m\\n\\n■ Mi-....... nèfoiifoTAMM.\\n\\n13.50; 4 derniers mois, 15.70: i moto de novembre,\\n1. — A relut, courant, I3JRH aaptemfere, 15.78»\\n'sidt m!» à IB0O«' * m0fa **\\n** «*-\\n\\nJÊ%i î&z » tsssix.\\n\\nPremière installation da\\n\\nSYSTÈME KNEIPP\\ndans 1* prou. Rhénane et tAllemagne du Kord\\n\\nOé.Wè OO.TO; poil. 0.» 4 9.40; péché*, ttè fi 1.6*; tac\\nraisin* noirs. 1.80 4 4.00) M. fctanm, 1.58 4 3JD; -n/\\nêb\\ntomate*, 0.50\""
      ]
     },
     "execution_count": 8,
     "metadata": {},
     "output_type": "execute_result"
    }
   ],
   "source": [
    "# Exemple de textes\n",
    "texts[0][:400]"
   ]
  },
  {
   "cell_type": "markdown",
   "id": "f1643de9-27bf-4232-bbc6-2df8b67d5933",
   "metadata": {},
   "source": [
    "## Vectoriser les documents à l'aide de TF-IDF"
   ]
  },
  {
   "cell_type": "code",
   "execution_count": 9,
   "id": "608a2cbd-4f1d-4aee-aa5f-737e86212d9f",
   "metadata": {},
   "outputs": [],
   "source": [
    "# Création d'une fonction de pré-traitement\n",
    "def preprocessing(text, stem=True):\n",
    "    \"\"\" Tokenize text and remove punctuation \"\"\"\n",
    "    text = text.translate(string.punctuation)\n",
    "    tokens = word_tokenize(text)\n",
    "    return tokens"
   ]
  },
  {
   "cell_type": "markdown",
   "id": "e8368c69-c473-4f62-9261-7401beebef71",
   "metadata": {},
   "source": [
    "### Instancier le modèle TF-IDF avec ses arguments"
   ]
  },
  {
   "cell_type": "code",
   "execution_count": 10,
   "id": "494cc6d0-68c6-4e2f-985e-9aae9b0ad70f",
   "metadata": {},
   "outputs": [],
   "source": [
    "vectorizer = TfidfVectorizer(\n",
    "    tokenizer=preprocessing,\n",
    "    stop_words=stopwords.words('french'),\n",
    "    max_df=0.5,\n",
    "    min_df=0.1,\n",
    "    lowercase=True)"
   ]
  },
  {
   "cell_type": "markdown",
   "id": "6d8ef081-a7f8-4039-b6f9-f5a4ed94fdaa",
   "metadata": {},
   "source": [
    "### Construire la matrice de vecteurs à l'aide de la fonction `fit_transform`"
   ]
  },
  {
   "cell_type": "code",
   "execution_count": 11,
   "id": "1e56647d-73dd-4db7-9045-ea0261568400",
   "metadata": {},
   "outputs": [],
   "source": [
    "tfidf_vectors = vectorizer.fit_transform(texts)"
   ]
  },
  {
   "cell_type": "code",
   "execution_count": 12,
   "id": "0e96dbef-eb5e-4716-8f8a-d366451c98cc",
   "metadata": {},
   "outputs": [
    {
     "data": {
      "text/plain": [
       "<907x3176 sparse matrix of type '<class 'numpy.float64'>'\n",
       "\twith 582271 stored elements in Compressed Sparse Row format>"
      ]
     },
     "execution_count": 12,
     "metadata": {},
     "output_type": "execute_result"
    }
   ],
   "source": [
    "# Détail de la matrice\n",
    "tfidf_vectors"
   ]
  },
  {
   "cell_type": "markdown",
   "id": "7b9d0d39-7504-4a2e-bc2a-b917b489db55",
   "metadata": {},
   "source": [
    "### Imprimer le vecteur tf-IDF du premier document"
   ]
  },
  {
   "cell_type": "code",
   "execution_count": 13,
   "id": "52d3d4e0-c48c-4bb3-ba61-48769d78b1db",
   "metadata": {},
   "outputs": [
    {
     "data": {
      "text/plain": [
       "août              0.522263\n",
       "1/4               0.325835\n",
       "+                 0.218569\n",
       "da                0.203525\n",
       "notaire           0.177185\n",
       "                    ...   \n",
       "fou               0.000000\n",
       "foule             0.000000\n",
       "administration    0.000000\n",
       "fournir           0.000000\n",
       "♦                 0.000000\n",
       "Length: 3176, dtype: float64"
      ]
     },
     "execution_count": 13,
     "metadata": {},
     "output_type": "execute_result"
    }
   ],
   "source": [
    "pd.Series(\n",
    "    tfidf_vectors[0].toarray()[0],\n",
    "    index=vectorizer.get_feature_names_out()\n",
    "    ).sort_values(ascending=False)"
   ]
  },
  {
   "cell_type": "markdown",
   "id": "a9c4f75d-3535-49bd-98ea-c4046cdfaa30",
   "metadata": {},
   "source": [
    "## Comprendre les vecteurs et leurs \"distances\""
   ]
  },
  {
   "cell_type": "code",
   "execution_count": 14,
   "id": "1b95a7b2-8de4-4d11-a4ac-67a417a07db1",
   "metadata": {},
   "outputs": [
    {
     "data": {
      "text/plain": [
       "0"
      ]
     },
     "execution_count": 14,
     "metadata": {},
     "output_type": "execute_result"
    }
   ],
   "source": [
    "cosine([1, 2, 3], [1, 2, 3])"
   ]
  },
  {
   "cell_type": "code",
   "execution_count": 15,
   "id": "2efd9421-2c99-4462-ae69-c643af0c8d29",
   "metadata": {},
   "outputs": [
    {
     "data": {
      "text/plain": [
       "0.02004211298777725"
      ]
     },
     "execution_count": 15,
     "metadata": {},
     "output_type": "execute_result"
    }
   ],
   "source": [
    "cosine([1, 2, 3], [1, 2, 2])"
   ]
  },
  {
   "cell_type": "code",
   "execution_count": 16,
   "id": "26849695-5119-4165-8bba-d070ebab94db",
   "metadata": {},
   "outputs": [
    {
     "data": {
      "text/plain": [
       "0.07417990022744858"
      ]
     },
     "execution_count": 16,
     "metadata": {},
     "output_type": "execute_result"
    }
   ],
   "source": [
    "cosine([1, 2, 3], [2, 2, 2])"
   ]
  },
  {
   "cell_type": "markdown",
   "id": "bd182ef9-e3df-4eca-be27-a3797714afb6",
   "metadata": {},
   "source": [
    "### Tests sur nos documents"
   ]
  },
  {
   "cell_type": "code",
   "execution_count": 17,
   "id": "ceb7de2e-eccc-4422-bd9e-76d4b09c0e7a",
   "metadata": {},
   "outputs": [],
   "source": [
    "tfidf_array = tfidf_vectors.toarray()"
   ]
  },
  {
   "cell_type": "code",
   "execution_count": 18,
   "id": "cf19f889-c9dd-4e41-89c8-06c07f25a618",
   "metadata": {},
   "outputs": [
    {
     "data": {
      "text/plain": [
       "array([0.01359603, 0.        , 0.        , ..., 0.        , 0.        ,\n",
       "       0.        ])"
      ]
     },
     "execution_count": 18,
     "metadata": {},
     "output_type": "execute_result"
    }
   ],
   "source": [
    "# Vecteur du document 0\n",
    "tfidf_array[0]"
   ]
  },
  {
   "cell_type": "code",
   "execution_count": 19,
   "id": "d6faf5c6-10c8-4cce-8967-acfdabf2cdc0",
   "metadata": {},
   "outputs": [
    {
     "data": {
      "text/plain": [
       "array([0.01897409, 0.        , 0.        , ..., 0.        , 0.        ,\n",
       "       0.        ])"
      ]
     },
     "execution_count": 19,
     "metadata": {},
     "output_type": "execute_result"
    }
   ],
   "source": [
    "# Vecteur du document 1\n",
    "tfidf_array[1]"
   ]
  },
  {
   "cell_type": "code",
   "execution_count": 20,
   "id": "2ed1d29b-27db-43d5-b53d-e68c82a3359d",
   "metadata": {},
   "outputs": [
    {
     "data": {
      "text/plain": [
       "0.7882617850809077"
      ]
     },
     "execution_count": 20,
     "metadata": {},
     "output_type": "execute_result"
    }
   ],
   "source": [
    "cosine(tfidf_array[0], tfidf_array[1])"
   ]
  },
  {
   "cell_type": "markdown",
   "id": "17054525-38b6-4f2b-9d91-50ab3445c1d8",
   "metadata": {},
   "source": [
    "## Appliquer un algorithme de clustering sur les vecteurs TF-IDF des documents"
   ]
  },
  {
   "cell_type": "markdown",
   "id": "5ca8b810-cb91-42c3-bc91-2bd9c900aeaf",
   "metadata": {},
   "source": [
    "Pour en savoir plus sur le KMeans clustering :\n",
    "- https://medium.com/dataseries/k-means-clustering-explained-visually-in-5-minutes-b900cc69d175"
   ]
  },
  {
   "cell_type": "markdown",
   "id": "a36d1eb2-36a4-41f9-b433-15eb7eeb7f13",
   "metadata": {},
   "source": [
    "### Définir un nombre de clusters"
   ]
  },
  {
   "cell_type": "code",
   "execution_count": 21,
   "id": "f1def269-be29-44de-ba06-e7dc096b7c0c",
   "metadata": {},
   "outputs": [],
   "source": [
    "N_CLUSTERS = 3"
   ]
  },
  {
   "cell_type": "markdown",
   "id": "f97c5840-e923-4e96-bad3-cc137f780ccb",
   "metadata": {},
   "source": [
    "### Instancier le modèle K-Means et ses arguments"
   ]
  },
  {
   "cell_type": "code",
   "execution_count": 22,
   "id": "e411e3ac-718f-43a3-b06c-57c07bae0e13",
   "metadata": {},
   "outputs": [],
   "source": [
    "km_model = KMeans(n_clusters=N_CLUSTERS)"
   ]
  },
  {
   "cell_type": "markdown",
   "id": "f192adb0-a11f-4e93-a067-e96eebd76db1",
   "metadata": {},
   "source": [
    "### Appliquer le clustering à l'aide de la fonction `fit_predict`"
   ]
  },
  {
   "cell_type": "code",
   "execution_count": 23,
   "id": "d1d0d047-72c3-4faa-bb89-5b83d5955e4e",
   "metadata": {},
   "outputs": [],
   "source": [
    "clusters = km_model.fit_predict(tfidf_vectors)"
   ]
  },
  {
   "cell_type": "code",
   "execution_count": 24,
   "id": "6814a679-0ed0-44b3-b3b0-f36d3b99cde0",
   "metadata": {},
   "outputs": [],
   "source": [
    "clustering = collections.defaultdict(list)\n",
    "\n",
    "for idx, label in enumerate(clusters):\n",
    "    clustering[label].append(files[idx])"
   ]
  },
  {
   "cell_type": "code",
   "execution_count": 25,
   "id": "bb736c7e-a5be-46c5-ad60-0910fc7382e4",
   "metadata": {},
   "outputs": [
    {
     "name": "stdout",
     "output_type": "stream",
     "text": [
      "{0: ['KB_JB838_1890-01-29_01-00004.txt',\n",
      "     'KB_JB838_1890-02-05_01-00008.txt',\n",
      "     'KB_JB838_1890-02-16_01-00004.txt',\n",
      "     'KB_JB838_1890-04-01_01-00004.txt',\n",
      "     'KB_JB838_1890-05-11_01-00003.txt',\n",
      "     'KB_JB838_1890-05-20_01-00004.txt',\n",
      "     'KB_JB838_1890-06-07_01-00004.txt',\n",
      "     'KB_JB838_1890-06-21_01-00004.txt',\n",
      "     'KB_JB838_1890-06-23_01-00004.txt',\n",
      "     'KB_JB838_1890-07-09_01-00004.txt',\n",
      "     'KB_JB838_1890-07-10_01-00004.txt',\n",
      "     'KB_JB838_1890-07-12_01-00004.txt',\n",
      "     'KB_JB838_1890-07-15_01-00004.txt',\n",
      "     'KB_JB838_1890-07-17_01-00004.txt',\n",
      "     'KB_JB838_1890-08-01_01-00004.txt',\n",
      "     'KB_JB838_1890-08-09_01-00004.txt',\n",
      "     'KB_JB838_1890-08-19_01-00004.txt',\n",
      "     'KB_JB838_1890-08-27_01-00004.txt',\n",
      "     'KB_JB838_1890-09-15_01-00004.txt',\n",
      "     'KB_JB838_1890-10-23_01-00004.txt',\n",
      "     'KB_JB838_1890-10-26_01-00004.txt',\n",
      "     'KB_JB838_1890-11-04_01-00004.txt',\n",
      "     'KB_JB838_1890-11-17_01-00004.txt',\n",
      "     'KB_JB838_1890-12-02_01-00004.txt',\n",
      "     'KB_JB838_1890-12-11_01-00004.txt',\n",
      "     'KB_JB838_1891-01-02_01-00004.txt',\n",
      "     'KB_JB838_1891-02-11_01-00004.txt',\n",
      "     'KB_JB838_1891-02-18_01-00004.txt',\n",
      "     'KB_JB838_1891-03-16_01-00004.txt',\n",
      "     'KB_JB838_1891-03-20_01-00004.txt',\n",
      "     'KB_JB838_1891-04-30_01-00004.txt',\n",
      "     'KB_JB838_1891-05-24_01-00003.txt',\n",
      "     'KB_JB838_1891-06-17_01-00004.txt',\n",
      "     'KB_JB838_1891-07-04_01-00004.txt',\n",
      "     'KB_JB838_1891-07-09_01-00006.txt',\n",
      "     'KB_JB838_1891-08-02_01-00003.txt',\n",
      "     'KB_JB838_1891-08-04_01-00004.txt',\n",
      "     'KB_JB838_1891-08-18_01-00004.txt',\n",
      "     'KB_JB838_1891-09-15_01-00004.txt',\n",
      "     'KB_JB838_1891-09-20_01-00004.txt',\n",
      "     'KB_JB838_1891-09-21_01-00004.txt',\n",
      "     'KB_JB838_1891-09-22_01-00004.txt',\n",
      "     'KB_JB838_1891-10-13_01-00004.txt',\n",
      "     'KB_JB838_1891-10-16_01-00004.txt',\n",
      "     'KB_JB838_1891-10-20_01-00004.txt',\n",
      "     'KB_JB838_1891-10-25_01-00004.txt',\n",
      "     'KB_JB838_1891-11-02_01-00004.txt',\n",
      "     'KB_JB838_1891-11-07_01-00004.txt',\n",
      "     'KB_JB838_1891-11-10_01-00004.txt',\n",
      "     'KB_JB838_1891-11-27_01-00004.txt',\n",
      "     'KB_JB838_1891-12-01_01-00004.txt',\n",
      "     'KB_JB838_1891-12-05_01-00002.txt',\n",
      "     'KB_JB838_1891-12-13_01-00004.txt',\n",
      "     'KB_JB838_1892-01-12_01-00004.txt',\n",
      "     'KB_JB838_1892-01-25_01-00004.txt',\n",
      "     'KB_JB838_1892-01-26_01-00004.txt',\n",
      "     'KB_JB838_1892-02-04_01-00004.txt',\n",
      "     'KB_JB838_1892-02-26_01-00004.txt',\n",
      "     'KB_JB838_1892-03-02_01-00004.txt',\n",
      "     'KB_JB838_1892-03-13_01-00004.txt',\n",
      "     'KB_JB838_1892-03-22_01-00004.txt',\n",
      "     'KB_JB838_1892-04-09_01-00004.txt',\n",
      "     'KB_JB838_1892-05-18_01-00004.txt',\n",
      "     'KB_JB838_1892-05-30_01-00004.txt',\n",
      "     'KB_JB838_1892-06-01_01-00004.txt',\n",
      "     'KB_JB838_1892-06-20_01-00006.txt',\n",
      "     'KB_JB838_1892-07-01_01-00004.txt',\n",
      "     'KB_JB838_1892-07-09_01-00004.txt',\n",
      "     'KB_JB838_1892-08-04_01-00004.txt',\n",
      "     'KB_JB838_1892-09-12_01-00004.txt',\n",
      "     'KB_JB838_1892-09-19_01-00004.txt',\n",
      "     'KB_JB838_1892-10-02_01-00003.txt',\n",
      "     'KB_JB838_1892-10-07_01-00004.txt',\n",
      "     'KB_JB838_1892-10-09_01-00004.txt',\n",
      "     'KB_JB838_1892-10-17_01-00004.txt',\n",
      "     'KB_JB838_1892-11-08_01-00004.txt',\n",
      "     'KB_JB838_1892-11-29_01-00004.txt',\n",
      "     'KB_JB838_1892-12-10_01-00004.txt',\n",
      "     'KB_JB838_1893-01-06_01-00004.txt',\n",
      "     'KB_JB838_1893-01-12_01-00004.txt',\n",
      "     'KB_JB838_1893-01-14_01-00004.txt',\n",
      "     'KB_JB838_1893-02-01_01-00004.txt',\n",
      "     'KB_JB838_1893-02-22_01-00003.txt',\n",
      "     'KB_JB838_1893-03-08_01-00004.txt',\n",
      "     'KB_JB838_1893-04-15_01-00004.txt',\n",
      "     'KB_JB838_1893-04-18_01-00004.txt',\n",
      "     'KB_JB838_1893-06-07_01-00004.txt',\n",
      "     'KB_JB838_1893-06-18_01-00004.txt',\n",
      "     'KB_JB838_1893-06-20_01-00004.txt',\n",
      "     'KB_JB838_1893-07-04_01-00004.txt',\n",
      "     'KB_JB838_1893-08-09_01-00004.txt',\n",
      "     'KB_JB838_1893-08-29_01-00004.txt',\n",
      "     'KB_JB838_1893-08-30_01-00004.txt',\n",
      "     'KB_JB838_1893-09-28_01-00004.txt',\n",
      "     'KB_JB838_1893-10-23_01-00004.txt',\n",
      "     'KB_JB838_1893-11-23_01-00004.txt',\n",
      "     'KB_JB838_1893-11-28_01-00004.txt',\n",
      "     'KB_JB838_1893-12-06_01-00004.txt',\n",
      "     'KB_JB838_1894-01-14_01-00003.txt',\n",
      "     'KB_JB838_1894-01-25_01-00004.txt',\n",
      "     'KB_JB838_1894-03-01_01-00006.txt',\n",
      "     'KB_JB838_1894-04-29_01-00003.txt',\n",
      "     'KB_JB838_1894-05-17_01-00004.txt',\n",
      "     'KB_JB838_1894-05-23_01-00004.txt',\n",
      "     'KB_JB838_1894-06-12_01-00004.txt',\n",
      "     'KB_JB838_1894-06-17_01-00005.txt',\n",
      "     'KB_JB838_1894-07-02_01-00003.txt',\n",
      "     'KB_JB838_1894-07-12_01-00004.txt',\n",
      "     'KB_JB838_1894-08-01_01-00004.txt',\n",
      "     'KB_JB838_1894-08-09_01-00004.txt',\n",
      "     'KB_JB838_1894-08-29_01-00004.txt',\n",
      "     'KB_JB838_1894-09-25_01-00004.txt',\n",
      "     'KB_JB838_1894-10-09_01-00004.txt',\n",
      "     'KB_JB838_1894-10-31_01-00004.txt',\n",
      "     'KB_JB838_1894-11-11_01-00004.txt',\n",
      "     'KB_JB838_1894-11-19_01-00004.txt',\n",
      "     'KB_JB838_1894-11-27_01-00004.txt',\n",
      "     'KB_JB838_1894-11-29_01-00004.txt',\n",
      "     'KB_JB838_1894-12-23_01-00004.txt',\n",
      "     'KB_JB838_1895-01-15_01-00004.txt',\n",
      "     'KB_JB838_1895-01-26_01-00004.txt',\n",
      "     'KB_JB838_1895-02-02_01-00004.txt',\n",
      "     'KB_JB838_1895-02-03_01-00006.txt',\n",
      "     'KB_JB838_1895-02-24_01-00004.txt',\n",
      "     'KB_JB838_1895-03-06_01-00004.txt',\n",
      "     'KB_JB838_1895-05-05_01-00004.txt',\n",
      "     'KB_JB838_1895-05-13_01-00004.txt',\n",
      "     'KB_JB838_1895-07-10_01-00004.txt',\n",
      "     'KB_JB838_1895-07-20_01-00004.txt',\n",
      "     'KB_JB838_1895-08-12_01-00004.txt',\n",
      "     'KB_JB838_1895-08-30_01-00004.txt',\n",
      "     'KB_JB838_1895-10-06_01-00003.txt',\n",
      "     'KB_JB838_1895-11-22_01-00004.txt',\n",
      "     'KB_JB838_1896-01-06_01-00004.txt',\n",
      "     'KB_JB838_1896-01-19_01-00004.txt',\n",
      "     'KB_JB838_1896-02-08_01-00004.txt',\n",
      "     'KB_JB838_1896-02-23_01-00004.txt',\n",
      "     'KB_JB838_1896-03-02_01-00004.txt',\n",
      "     'KB_JB838_1896-03-22_01-00004.txt',\n",
      "     'KB_JB838_1896-04-04_01-00004.txt',\n",
      "     'KB_JB838_1896-04-19_01-00006.txt',\n",
      "     'KB_JB838_1896-04-21_01-00004.txt',\n",
      "     'KB_JB838_1896-05-01_01-00004.txt',\n",
      "     'KB_JB838_1896-05-24_01-00004.txt',\n",
      "     'KB_JB838_1896-06-29_01-00004.txt',\n",
      "     'KB_JB838_1896-10-01_01-00004.txt',\n",
      "     'KB_JB838_1896-10-06_01-00004.txt',\n",
      "     'KB_JB838_1896-10-21_01-00004.txt',\n",
      "     'KB_JB838_1896-11-19_01-00004.txt',\n",
      "     'KB_JB838_1896-11-20_01-00004.txt',\n",
      "     'KB_JB838_1896-12-07_01-00004.txt',\n",
      "     'KB_JB838_1897-01-13_01-00006.txt',\n",
      "     'KB_JB838_1897-02-11_01-00004.txt',\n",
      "     'KB_JB838_1897-02-22_01-00004.txt',\n",
      "     'KB_JB838_1897-03-19_01-00004.txt',\n",
      "     'KB_JB838_1897-04-03_01-00004.txt',\n",
      "     'KB_JB838_1897-04-04_01-00008.txt',\n",
      "     'KB_JB838_1897-04-18_01-00004.txt',\n",
      "     'KB_JB838_1897-04-22_01-00004.txt',\n",
      "     'KB_JB838_1897-05-13_01-00004.txt',\n",
      "     'KB_JB838_1897-05-15_01-00004.txt',\n",
      "     'KB_JB838_1897-05-21_01-00004.txt',\n",
      "     'KB_JB838_1897-05-29_01-00004.txt',\n",
      "     'KB_JB838_1897-06-07_01-00004.txt',\n",
      "     'KB_JB838_1897-08-05_01-00004.txt',\n",
      "     'KB_JB838_1897-09-08_01-00004.txt',\n",
      "     'KB_JB838_1897-10-05_01-00003.txt',\n",
      "     'KB_JB838_1897-10-06_01-00004.txt',\n",
      "     'KB_JB838_1897-11-07_01-00004.txt',\n",
      "     'KB_JB838_1897-11-11_01-00004.txt',\n",
      "     'KB_JB838_1897-12-08_01-00004.txt',\n",
      "     'KB_JB838_1898-01-11_01-00004.txt',\n",
      "     'KB_JB838_1898-02-25_01-00004.txt',\n",
      "     'KB_JB838_1898-02-27_01-00004.txt',\n",
      "     'KB_JB838_1898-03-08_01-00004.txt',\n",
      "     'KB_JB838_1898-03-29_01-00003.txt',\n",
      "     'KB_JB838_1898-04-08_01-00004.txt',\n",
      "     'KB_JB838_1898-05-04_01-00004.txt',\n",
      "     'KB_JB838_1898-06-10_01-00004.txt',\n",
      "     'KB_JB838_1898-07-08_01-00004.txt',\n",
      "     'KB_JB838_1898-07-23_01-00004.txt',\n",
      "     'KB_JB838_1898-08-09_01-00004.txt',\n",
      "     'KB_JB838_1898-09-22_01-00004.txt',\n",
      "     'KB_JB838_1898-09-27_01-00004.txt',\n",
      "     'KB_JB838_1898-10-07_01-00004.txt',\n",
      "     'KB_JB838_1898-10-08_01-00004.txt',\n",
      "     'KB_JB838_1898-10-09_01-00003.txt',\n",
      "     'KB_JB838_1898-10-28_01-00004.txt',\n",
      "     'KB_JB838_1898-10-29_01-00004.txt',\n",
      "     'KB_JB838_1898-11-05_01-00004.txt',\n",
      "     'KB_JB838_1898-11-17_01-00008.txt',\n",
      "     'KB_JB838_1898-11-21_01-00004.txt',\n",
      "     'KB_JB838_1898-11-24_01-00004.txt',\n",
      "     'KB_JB838_1898-12-03_01-00004.txt',\n",
      "     'KB_JB838_1898-12-08_01-00004.txt',\n",
      "     'KB_JB838_1898-12-26_01-00004.txt'],\n",
      " 1: ['KB_JB230_1892-08-07_01-0003.txt',\n",
      "     'KB_JB258_1894-12-09_01-0003.txt',\n",
      "     'KB_JB838_1890-01-05_01-00004.txt',\n",
      "     'KB_JB838_1890-01-06_01-00003.txt',\n",
      "     'KB_JB838_1890-01-08_01-00003.txt',\n",
      "     'KB_JB838_1890-01-09_01-00003.txt',\n",
      "     'KB_JB838_1890-01-12_01-00004.txt',\n",
      "     'KB_JB838_1890-01-24_01-00003.txt',\n",
      "     'KB_JB838_1890-02-02_01-00004.txt',\n",
      "     'KB_JB838_1890-02-23_01-00003.txt',\n",
      "     'KB_JB838_1890-03-09_01-00007.txt',\n",
      "     'KB_JB838_1890-04-01_01-00003.txt',\n",
      "     'KB_JB838_1890-04-05_01-00003.txt',\n",
      "     'KB_JB838_1890-04-14_01-00003.txt',\n",
      "     'KB_JB838_1890-04-15_01-00003.txt',\n",
      "     'KB_JB838_1890-05-08_01-00003.txt',\n",
      "     'KB_JB838_1890-05-10_01-00003.txt',\n",
      "     'KB_JB838_1890-07-09_01-00003.txt',\n",
      "     'KB_JB838_1890-08-16_01-00003.txt',\n",
      "     'KB_JB838_1890-08-25_01-00003.txt',\n",
      "     'KB_JB838_1890-08-31_01-00003.txt',\n",
      "     'KB_JB838_1890-11-07_01-00003.txt',\n",
      "     'KB_JB838_1890-11-14_01-00003.txt',\n",
      "     'KB_JB838_1890-12-06_01-00003.txt',\n",
      "     'KB_JB838_1890-12-14_01-00003.txt',\n",
      "     'KB_JB838_1890-12-15_01-00003.txt',\n",
      "     'KB_JB838_1890-12-21_01-00003.txt',\n",
      "     'KB_JB838_1890-12-28_01-00008.txt',\n",
      "     'KB_JB838_1890-12-30_01-00003.txt',\n",
      "     'KB_JB838_1891-02-06_01-00003.txt',\n",
      "     'KB_JB838_1891-02-20_01-00003.txt',\n",
      "     'KB_JB838_1891-02-22_01-00004.txt',\n",
      "     'KB_JB838_1891-04-08_01-00003.txt',\n",
      "     'KB_JB838_1891-05-02_01-00003.txt',\n",
      "     'KB_JB838_1891-05-05_01-00003.txt',\n",
      "     'KB_JB838_1891-05-21_01-00003.txt',\n",
      "     'KB_JB838_1891-05-24_01-00002.txt',\n",
      "     'KB_JB838_1891-05-30_01-00003.txt',\n",
      "     'KB_JB838_1891-05-31_01-00007.txt',\n",
      "     'KB_JB838_1891-06-03_01-00003.txt',\n",
      "     'KB_JB838_1891-07-09_01-00005.txt',\n",
      "     'KB_JB838_1891-07-30_01-00003.txt',\n",
      "     'KB_JB838_1891-08-02_01-00002.txt',\n",
      "     'KB_JB838_1891-08-22_01-00003.txt',\n",
      "     'KB_JB838_1891-08-29_01-00003.txt',\n",
      "     'KB_JB838_1891-08-31_01-00003.txt',\n",
      "     'KB_JB838_1891-09-17_01-00003.txt',\n",
      "     'KB_JB838_1891-09-18_01-00003.txt',\n",
      "     'KB_JB838_1891-10-08_01-00003.txt',\n",
      "     'KB_JB838_1891-10-10_01-00003.txt',\n",
      "     'KB_JB838_1891-11-08_01-00007.txt',\n",
      "     'KB_JB838_1891-11-10_01-00003.txt',\n",
      "     'KB_JB838_1891-11-17_01-00003.txt',\n",
      "     'KB_JB838_1891-11-23_01-00003.txt',\n",
      "     'KB_JB838_1891-11-24_01-00003.txt',\n",
      "     'KB_JB838_1891-12-28_01-00003.txt',\n",
      "     'KB_JB838_1892-01-21_01-00003.txt',\n",
      "     'KB_JB838_1892-01-24_01-00002.txt',\n",
      "     'KB_JB838_1892-01-25_01-00003.txt',\n",
      "     'KB_JB838_1892-01-27_01-00003.txt',\n",
      "     'KB_JB838_1892-02-06_01-00003.txt',\n",
      "     'KB_JB838_1892-02-08_01-00003.txt',\n",
      "     'KB_JB838_1892-02-09_01-00003.txt',\n",
      "     'KB_JB838_1892-02-19_01-00005.txt',\n",
      "     'KB_JB838_1892-02-28_01-00003.txt',\n",
      "     'KB_JB838_1892-03-10_01-00003.txt',\n",
      "     'KB_JB838_1892-03-25_01-00003.txt',\n",
      "     'KB_JB838_1892-04-12_01-00005.txt',\n",
      "     'KB_JB838_1892-04-28_01-00003.txt',\n",
      "     'KB_JB838_1892-05-04_01-00003.txt',\n",
      "     'KB_JB838_1892-05-16_01-00003.txt',\n",
      "     'KB_JB838_1892-06-11_01-00003.txt',\n",
      "     'KB_JB838_1892-06-12_01-00003.txt',\n",
      "     'KB_JB838_1892-06-14_01-00003.txt',\n",
      "     'KB_JB838_1892-07-11_01-00003.txt',\n",
      "     'KB_JB838_1892-07-28_01-00003.txt',\n",
      "     'KB_JB838_1892-08-09_01-00003.txt',\n",
      "     'KB_JB838_1892-08-16_01-00003.txt',\n",
      "     'KB_JB838_1892-08-20_01-00003.txt',\n",
      "     'KB_JB838_1892-09-28_01-00003.txt',\n",
      "     'KB_JB838_1892-10-15_01-00003.txt',\n",
      "     'KB_JB838_1892-10-22_01-00003.txt',\n",
      "     'KB_JB838_1892-10-25_01-00003.txt',\n",
      "     'KB_JB838_1892-11-04_01-00003.txt',\n",
      "     'KB_JB838_1892-11-08_01-00003.txt',\n",
      "     'KB_JB838_1892-11-28_01-00003.txt',\n",
      "     'KB_JB838_1892-12-23_01-00003.txt',\n",
      "     'KB_JB838_1893-01-12_01-00003.txt',\n",
      "     'KB_JB838_1893-01-29_01-00006.txt',\n",
      "     'KB_JB838_1893-01-29_01-00010.txt',\n",
      "     'KB_JB838_1893-01-30_01-00003.txt',\n",
      "     'KB_JB838_1893-02-05_01-00008.txt',\n",
      "     'KB_JB838_1893-02-23_01-00006.txt',\n",
      "     'KB_JB838_1893-02-25_01-00003.txt',\n",
      "     'KB_JB838_1893-03-19_01-00008.txt',\n",
      "     'KB_JB838_1893-04-17_01-00003.txt',\n",
      "     'KB_JB838_1893-04-30_01-00008.txt',\n",
      "     'KB_JB838_1893-05-03_01-00003.txt',\n",
      "     'KB_JB838_1893-05-04_01-00003.txt',\n",
      "     'KB_JB838_1893-05-07_01-00003.txt',\n",
      "     'KB_JB838_1893-06-01_01-00003.txt',\n",
      "     'KB_JB838_1893-06-03_01-00003.txt',\n",
      "     'KB_JB838_1893-06-04_01-00008.txt',\n",
      "     'KB_JB838_1893-06-05_01-00003.txt',\n",
      "     'KB_JB838_1893-06-19_01-00004.txt',\n",
      "     'KB_JB838_1893-07-02_01-00008.txt',\n",
      "     'KB_JB838_1893-07-09_01-00005.txt',\n",
      "     'KB_JB838_1893-08-09_01-00003.txt',\n",
      "     'KB_JB838_1893-08-15_01-00003.txt',\n",
      "     'KB_JB838_1893-08-25_01-00003.txt',\n",
      "     'KB_JB838_1893-08-29_01-00003.txt',\n",
      "     'KB_JB838_1893-09-06_01-00003.txt',\n",
      "     'KB_JB838_1893-09-29_01-00003.txt',\n",
      "     'KB_JB838_1893-11-08_01-00003.txt',\n",
      "     'KB_JB838_1893-12-10_01-00008.txt',\n",
      "     'KB_JB838_1894-01-01_01-00004.txt',\n",
      "     'KB_JB838_1894-01-06_01-00003.txt',\n",
      "     'KB_JB838_1894-01-14_01-00008.txt',\n",
      "     'KB_JB838_1894-01-16_01-00003.txt',\n",
      "     'KB_JB838_1894-01-20_01-00003.txt',\n",
      "     'KB_JB838_1894-02-12_01-00003.txt',\n",
      "     'KB_JB838_1894-02-18_01-00008.txt',\n",
      "     'KB_JB838_1894-03-08_01-00006.txt',\n",
      "     'KB_JB838_1894-03-22_01-00006.txt',\n",
      "     'KB_JB838_1894-04-11_01-00006.txt',\n",
      "     'KB_JB838_1894-04-18_01-00006.txt',\n",
      "     'KB_JB838_1894-05-13_01-00003.txt',\n",
      "     'KB_JB838_1894-05-13_01-00008.txt',\n",
      "     'KB_JB838_1894-05-24_01-00003.txt',\n",
      "     'KB_JB838_1894-05-31_01-00005.txt',\n",
      "     'KB_JB838_1894-06-07_01-00003.txt',\n",
      "     'KB_JB838_1894-06-10_01-00007.txt',\n",
      "     'KB_JB838_1894-06-20_01-00003.txt',\n",
      "     'KB_JB838_1894-06-24_01-00005.txt',\n",
      "     'KB_JB838_1894-08-15_01-00006.txt',\n",
      "     'KB_JB838_1894-09-09_01-00003.txt',\n",
      "     'KB_JB838_1894-09-27_01-00006.txt',\n",
      "     'KB_JB838_1894-10-04_01-00006.txt',\n",
      "     'KB_JB838_1894-10-18_01-00006.txt',\n",
      "     'KB_JB838_1894-10-26_01-00003.txt',\n",
      "     'KB_JB838_1894-11-04_01-00008.txt',\n",
      "     'KB_JB838_1894-11-09_01-00003.txt',\n",
      "     'KB_JB838_1894-11-14_01-00003.txt',\n",
      "     'KB_JB838_1894-11-30_01-00003.txt',\n",
      "     'KB_JB838_1895-01-17_01-00008.txt',\n",
      "     'KB_JB838_1895-02-04_01-00003.txt',\n",
      "     'KB_JB838_1895-02-10_01-00007.txt',\n",
      "     'KB_JB838_1895-02-17_01-00003.txt',\n",
      "     'KB_JB838_1895-02-20_01-00003.txt',\n",
      "     'KB_JB838_1895-03-16_01-00003.txt',\n",
      "     'KB_JB838_1895-04-30_01-00003.txt',\n",
      "     'KB_JB838_1895-05-22_01-00006.txt',\n",
      "     'KB_JB838_1895-06-19_01-00003.txt',\n",
      "     'KB_JB838_1895-06-23_01-00008.txt',\n",
      "     'KB_JB838_1895-06-29_01-00003.txt',\n",
      "     'KB_JB838_1895-07-07_01-00002.txt',\n",
      "     'KB_JB838_1895-07-10_01-00005.txt',\n",
      "     'KB_JB838_1895-07-14_01-00007.txt',\n",
      "     'KB_JB838_1895-07-31_01-00003.txt',\n",
      "     'KB_JB838_1895-08-08_01-00003.txt',\n",
      "     'KB_JB838_1895-09-01_01-00007.txt',\n",
      "     'KB_JB838_1895-10-27_01-00008.txt',\n",
      "     'KB_JB838_1895-11-02_01-00007.txt',\n",
      "     'KB_JB838_1895-12-05_01-00008.txt',\n",
      "     'KB_JB838_1895-12-08_01-00003.txt',\n",
      "     'KB_JB838_1895-12-23_01-00003.txt',\n",
      "     'KB_JB838_1895-12-29_01-00003.txt',\n",
      "     'KB_JB838_1896-01-12_01-00007.txt',\n",
      "     'KB_JB838_1896-02-23_01-00008.txt',\n",
      "     'KB_JB838_1896-03-02_01-00003.txt',\n",
      "     'KB_JB838_1896-03-04_01-00003.txt',\n",
      "     'KB_JB838_1896-03-08_01-00008.txt',\n",
      "     'KB_JB838_1896-03-12_01-00008.txt',\n",
      "     'KB_JB838_1896-04-05_01-00003.txt',\n",
      "     'KB_JB838_1896-04-12_01-00007.txt',\n",
      "     'KB_JB838_1896-05-03_01-00008.txt',\n",
      "     'KB_JB838_1896-05-12_01-00003.txt',\n",
      "     'KB_JB838_1896-05-24_01-00003.txt',\n",
      "     'KB_JB838_1896-05-24_01-00007.txt',\n",
      "     'KB_JB838_1896-06-05_01-00003.txt',\n",
      "     'KB_JB838_1896-06-09_01-00005.txt',\n",
      "     'KB_JB838_1896-07-09_01-00003.txt',\n",
      "     'KB_JB838_1896-07-10_01-00003.txt',\n",
      "     'KB_JB838_1896-07-26_01-00004.txt',\n",
      "     'KB_JB838_1896-08-06_01-00010.txt',\n",
      "     'KB_JB838_1896-08-20_01-00008.txt',\n",
      "     'KB_JB838_1896-08-25_01-00003.txt',\n",
      "     'KB_JB838_1896-08-27_01-00003.txt',\n",
      "     'KB_JB838_1896-09-01_01-00003.txt',\n",
      "     'KB_JB838_1896-09-06_01-00007.txt',\n",
      "     'KB_JB838_1896-09-08_01-00003.txt',\n",
      "     'KB_JB838_1896-09-16_01-00003.txt',\n",
      "     'KB_JB838_1896-09-24_01-00008.txt',\n",
      "     'KB_JB838_1896-10-04_01-00004.txt',\n",
      "     'KB_JB838_1896-11-01_01-00007.txt',\n",
      "     'KB_JB838_1896-11-02_01-00003.txt',\n",
      "     'KB_JB838_1896-11-12_01-00003.txt',\n",
      "     'KB_JB838_1896-11-15_01-00006.txt',\n",
      "     'KB_JB838_1896-11-17_01-00003.txt',\n",
      "     'KB_JB838_1896-12-28_01-00003.txt',\n",
      "     'KB_JB838_1897-01-15_01-00003.txt',\n",
      "     'KB_JB838_1897-01-28_01-00005.txt',\n",
      "     'KB_JB838_1897-05-02_01-00003.txt',\n",
      "     'KB_JB838_1897-05-16_01-00007.txt',\n",
      "     'KB_JB838_1897-05-20_01-00008.txt',\n",
      "     'KB_JB838_1897-07-15_01-00008.txt',\n",
      "     'KB_JB838_1897-07-21_01-00005.txt',\n",
      "     'KB_JB838_1897-07-25_01-00003.txt',\n",
      "     'KB_JB838_1897-08-03_01-00003.txt',\n",
      "     'KB_JB838_1897-08-07_01-00003.txt',\n",
      "     'KB_JB838_1897-08-08_01-00003.txt',\n",
      "     'KB_JB838_1897-08-25_01-00003.txt',\n",
      "     'KB_JB838_1897-09-01_01-00006.txt',\n",
      "     'KB_JB838_1897-09-05_01-00007.txt',\n",
      "     'KB_JB838_1897-09-09_01-00010.txt',\n",
      "     'KB_JB838_1897-10-01_01-00008.txt',\n",
      "     'KB_JB838_1897-10-06_01-00006.txt',\n",
      "     'KB_JB838_1897-10-18_01-00003.txt',\n",
      "     'KB_JB838_1898-01-01_01-00004.txt',\n",
      "     'KB_JB838_1898-02-06_01-00007.txt',\n",
      "     'KB_JB838_1898-02-14_01-00003.txt',\n",
      "     'KB_JB838_1898-02-21_01-00003.txt',\n",
      "     'KB_JB838_1898-03-14_01-00005.txt',\n",
      "     'KB_JB838_1898-03-23_01-00003.txt',\n",
      "     'KB_JB838_1898-05-20_01-00003.txt',\n",
      "     'KB_JB838_1898-05-22_01-00006.txt',\n",
      "     'KB_JB838_1898-06-06_01-00003.txt',\n",
      "     'KB_JB838_1898-06-17_01-00003.txt',\n",
      "     'KB_JB838_1898-06-26_01-00007.txt',\n",
      "     'KB_JB838_1898-07-20_01-00003.txt',\n",
      "     'KB_JB838_1898-07-22_01-00003.txt',\n",
      "     'KB_JB838_1898-08-21_01-00007.txt',\n",
      "     'KB_JB838_1898-09-04_01-00006.txt',\n",
      "     'KB_JB838_1898-09-04_01-00008.txt',\n",
      "     'KB_JB838_1898-09-10_01-00003.txt',\n",
      "     'KB_JB838_1898-09-11_01-00003.txt',\n",
      "     'KB_JB838_1898-10-03_01-00003.txt',\n",
      "     'KB_JB838_1898-10-09_01-00008.txt',\n",
      "     'KB_JB838_1898-12-11_01-00007.txt',\n",
      "     'KB_JB838_1898-12-19_01-00003.txt'],\n",
      " 2: ['KB_JB421_1899-05-15_01-00003.txt',\n",
      "     'KB_JB555_1899-01-19_01-00003.txt',\n",
      "     'KB_JB567_1892-01-03_01-00005.txt',\n",
      "     'KB_JB685_1894-05-14_01-0003.txt',\n",
      "     'KB_JB729_1895-10-08_01-00003.txt',\n",
      "     'KB_JB838_1890-01-15_01-00001.txt',\n",
      "     'KB_JB838_1890-01-16_01-00002.txt',\n",
      "     'KB_JB838_1890-01-20_01-00001.txt',\n",
      "     'KB_JB838_1890-01-25_01-00001.txt',\n",
      "     'KB_JB838_1890-01-27_01-00002.txt',\n",
      "     'KB_JB838_1890-02-05_01-00001.txt',\n",
      "     'KB_JB838_1890-02-07_01-00001.txt',\n",
      "     'KB_JB838_1890-02-09_01-00003.txt',\n",
      "     'KB_JB838_1890-02-12_01-00002.txt',\n",
      "     'KB_JB838_1890-03-04_01-00001.txt',\n",
      "     'KB_JB838_1890-03-13_01-00002.txt',\n",
      "     'KB_JB838_1890-03-27_01-00001.txt',\n",
      "     'KB_JB838_1890-04-06_01-00002.txt',\n",
      "     'KB_JB838_1890-04-13_01-00001.txt',\n",
      "     'KB_JB838_1890-05-01_01-00001.txt',\n",
      "     'KB_JB838_1890-05-06_01-00002.txt',\n",
      "     'KB_JB838_1890-05-11_01-00001.txt',\n",
      "     'KB_JB838_1890-06-06_01-00001.txt',\n",
      "     'KB_JB838_1890-06-20_01-00001.txt',\n",
      "     'KB_JB838_1890-06-22_01-00006.txt',\n",
      "     'KB_JB838_1890-06-24_01-00001.txt',\n",
      "     'KB_JB838_1890-07-02_01-00001.txt',\n",
      "     'KB_JB838_1890-07-11_01-00002.txt',\n",
      "     'KB_JB838_1890-08-06_01-00002.txt',\n",
      "     'KB_JB838_1890-08-09_01-00001.txt',\n",
      "     'KB_JB838_1890-08-18_01-00001.txt',\n",
      "     'KB_JB838_1890-08-26_01-00001.txt',\n",
      "     'KB_JB838_1890-08-29_01-00002.txt',\n",
      "     'KB_JB838_1890-09-01_01-00002.txt',\n",
      "     'KB_JB838_1890-09-03_01-00001.txt',\n",
      "     'KB_JB838_1890-09-04_01-00001.txt',\n",
      "     'KB_JB838_1890-09-08_01-00001.txt',\n",
      "     'KB_JB838_1890-09-09_01-00001.txt',\n",
      "     'KB_JB838_1890-09-17_01-00001.txt',\n",
      "     'KB_JB838_1890-09-18_01-00001.txt',\n",
      "     'KB_JB838_1890-09-18_01-00002.txt',\n",
      "     'KB_JB838_1890-10-01_01-00002.txt',\n",
      "     'KB_JB838_1890-10-02_01-00001.txt',\n",
      "     'KB_JB838_1890-10-14_01-00002.txt',\n",
      "     'KB_JB838_1890-10-24_01-00001.txt',\n",
      "     'KB_JB838_1890-11-17_01-00001.txt',\n",
      "     'KB_JB838_1890-11-19_01-00002.txt',\n",
      "     'KB_JB838_1890-11-21_01-00001.txt',\n",
      "     'KB_JB838_1890-11-24_01-00001.txt',\n",
      "     'KB_JB838_1890-12-01_01-00001.txt',\n",
      "     'KB_JB838_1890-12-13_01-00002.txt',\n",
      "     'KB_JB838_1890-12-16_01-00004.txt',\n",
      "     'KB_JB838_1890-12-30_01-00001.txt',\n",
      "     'KB_JB838_1891-01-10_01-00001.txt',\n",
      "     'KB_JB838_1891-01-15_01-00002.txt',\n",
      "     'KB_JB838_1891-01-23_01-00001.txt',\n",
      "     'KB_JB838_1891-02-14_01-00001.txt',\n",
      "     'KB_JB838_1891-03-04_01-00001.txt',\n",
      "     'KB_JB838_1891-03-11_01-00001.txt',\n",
      "     'KB_JB838_1891-03-12_01-00001.txt',\n",
      "     'KB_JB838_1891-03-14_01-00002.txt',\n",
      "     'KB_JB838_1891-03-24_01-00002.txt',\n",
      "     'KB_JB838_1891-04-08_01-00002.txt',\n",
      "     'KB_JB838_1891-04-11_01-00001.txt',\n",
      "     'KB_JB838_1891-04-14_01-00001.txt',\n",
      "     'KB_JB838_1891-04-19_01-00001.txt',\n",
      "     'KB_JB838_1891-04-23_01-00002.txt',\n",
      "     'KB_JB838_1891-04-28_01-00001.txt',\n",
      "     'KB_JB838_1891-05-01_01-00001.txt',\n",
      "     'KB_JB838_1891-05-02_01-00001.txt',\n",
      "     'KB_JB838_1891-05-12_01-00001.txt',\n",
      "     'KB_JB838_1891-05-15_01-00001.txt',\n",
      "     'KB_JB838_1891-05-18_01-00002.txt',\n",
      "     'KB_JB838_1891-05-21_01-00001.txt',\n",
      "     'KB_JB838_1891-05-27_01-00002.txt',\n",
      "     'KB_JB838_1891-06-03_01-00002.txt',\n",
      "     'KB_JB838_1891-06-04_01-00002.txt',\n",
      "     'KB_JB838_1891-06-09_01-00001.txt',\n",
      "     'KB_JB838_1891-06-13_01-00001.txt',\n",
      "     'KB_JB838_1891-06-16_01-00001.txt',\n",
      "     'KB_JB838_1891-06-19_01-00001.txt',\n",
      "     'KB_JB838_1891-06-20_01-00002.txt',\n",
      "     'KB_JB838_1891-07-07_01-00002.txt',\n",
      "     'KB_JB838_1891-07-10_01-00002.txt',\n",
      "     'KB_JB838_1891-07-16_01-00001.txt',\n",
      "     'KB_JB838_1891-07-18_01-00001.txt',\n",
      "     'KB_JB838_1891-07-26_01-00001.txt',\n",
      "     'KB_JB838_1891-07-31_01-00001.txt',\n",
      "     'KB_JB838_1891-08-11_01-00001.txt',\n",
      "     'KB_JB838_1891-08-14_01-00002.txt',\n",
      "     'KB_JB838_1891-09-08_01-00002.txt',\n",
      "     'KB_JB838_1891-09-18_01-00001.txt',\n",
      "     'KB_JB838_1891-10-01_01-00002.txt',\n",
      "     'KB_JB838_1891-10-03_01-00002.txt',\n",
      "     'KB_JB838_1891-10-07_01-00002.txt',\n",
      "     'KB_JB838_1891-12-14_01-00001.txt',\n",
      "     'KB_JB838_1891-12-18_01-00002.txt',\n",
      "     'KB_JB838_1891-12-24_01-00001.txt',\n",
      "     'KB_JB838_1892-01-10_01-00001.txt',\n",
      "     'KB_JB838_1892-02-04_01-00002.txt',\n",
      "     'KB_JB838_1892-02-10_01-00002.txt',\n",
      "     'KB_JB838_1892-02-25_01-00003.txt',\n",
      "     'KB_JB838_1892-02-29_01-00002.txt',\n",
      "     'KB_JB838_1892-03-03_01-00002.txt',\n",
      "     'KB_JB838_1892-03-15_01-00002.txt',\n",
      "     'KB_JB838_1892-03-16_01-00002.txt',\n",
      "     'KB_JB838_1892-03-18_01-00002.txt',\n",
      "     'KB_JB838_1892-03-24_01-00005.txt',\n",
      "     'KB_JB838_1892-03-31_01-00005.txt',\n",
      "     'KB_JB838_1892-04-04_01-00002.txt',\n",
      "     'KB_JB838_1892-04-05_01-00001.txt',\n",
      "     'KB_JB838_1892-04-06_01-00002.txt',\n",
      "     'KB_JB838_1892-04-07_01-00005.txt',\n",
      "     'KB_JB838_1892-04-16_01-00001.txt',\n",
      "     'KB_JB838_1892-04-26_01-00002.txt',\n",
      "     'KB_JB838_1892-04-29_01-00006.txt',\n",
      "     'KB_JB838_1892-05-11_01-00001.txt',\n",
      "     'KB_JB838_1892-05-13_01-00001.txt',\n",
      "     'KB_JB838_1892-05-19_01-00005.txt',\n",
      "     'KB_JB838_1892-06-01_01-00001.txt',\n",
      "     'KB_JB838_1892-06-08_01-00001.txt',\n",
      "     'KB_JB838_1892-06-10_01-00002.txt',\n",
      "     'KB_JB838_1892-07-01_01-00001.txt',\n",
      "     'KB_JB838_1892-07-04_01-00002.txt',\n",
      "     'KB_JB838_1892-08-03_01-00001.txt',\n",
      "     'KB_JB838_1892-08-04_01-00002.txt',\n",
      "     'KB_JB838_1892-08-08_01-00002.txt',\n",
      "     'KB_JB838_1892-08-14_01-00005.txt',\n",
      "     'KB_JB838_1892-08-18_01-00006.txt',\n",
      "     'KB_JB838_1892-08-26_01-00002.txt',\n",
      "     'KB_JB838_1892-09-07_01-00001.txt',\n",
      "     'KB_JB838_1892-09-09_01-00003.txt',\n",
      "     'KB_JB838_1892-10-06_01-00002.txt',\n",
      "     'KB_JB838_1892-10-10_01-00002.txt',\n",
      "     'KB_JB838_1892-11-07_01-00002.txt',\n",
      "     'KB_JB838_1892-11-13_01-00001.txt',\n",
      "     'KB_JB838_1892-11-15_01-00002.txt',\n",
      "     'KB_JB838_1892-12-01_01-00005.txt',\n",
      "     'KB_JB838_1892-12-04_01-00001.txt',\n",
      "     'KB_JB838_1892-12-10_01-00003.txt',\n",
      "     'KB_JB838_1892-12-15_01-00005.txt',\n",
      "     'KB_JB838_1892-12-22_01-00001.txt',\n",
      "     'KB_JB838_1893-01-09_01-00002.txt',\n",
      "     'KB_JB838_1893-01-12_01-00005.txt',\n",
      "     'KB_JB838_1893-01-16_01-00002.txt',\n",
      "     'KB_JB838_1893-01-24_01-00002.txt',\n",
      "     'KB_JB838_1893-01-29_01-00008.txt',\n",
      "     'KB_JB838_1893-01-30_01-00001.txt',\n",
      "     'KB_JB838_1893-02-11_01-00001.txt',\n",
      "     'KB_JB838_1893-02-11_01-00002.txt',\n",
      "     'KB_JB838_1893-02-12_01-00001.txt',\n",
      "     'KB_JB838_1893-02-12_01-00005.txt',\n",
      "     'KB_JB838_1893-02-26_01-00006.txt',\n",
      "     'KB_JB838_1893-03-03_01-00001.txt',\n",
      "     'KB_JB838_1893-03-05_01-00002.txt',\n",
      "     'KB_JB838_1893-03-27_01-00002.txt',\n",
      "     'KB_JB838_1893-03-28_01-00002.txt',\n",
      "     'KB_JB838_1893-04-02_01-00006.txt',\n",
      "     'KB_JB838_1893-04-13_01-00001.txt',\n",
      "     'KB_JB838_1893-04-16_01-00001.txt',\n",
      "     'KB_JB838_1893-04-20_01-00003.txt',\n",
      "     'KB_JB838_1893-05-10_01-00001.txt',\n",
      "     'KB_JB838_1893-05-14_01-00002.txt',\n",
      "     'KB_JB838_1893-05-14_01-00005.txt',\n",
      "     'KB_JB838_1893-05-21_01-00001.txt',\n",
      "     'KB_JB838_1893-06-09_01-00001.txt',\n",
      "     'KB_JB838_1893-06-12_01-00001.txt',\n",
      "     'KB_JB838_1893-06-19_01-00001.txt',\n",
      "     'KB_JB838_1893-06-30_01-00002.txt',\n",
      "     'KB_JB838_1893-07-02_01-00002.txt',\n",
      "     'KB_JB838_1893-07-04_01-00001.txt',\n",
      "     'KB_JB838_1893-07-20_01-00002.txt',\n",
      "     'KB_JB838_1893-08-08_01-00001.txt',\n",
      "     'KB_JB838_1893-08-10_01-00002.txt',\n",
      "     'KB_JB838_1893-08-11_01-00001.txt',\n",
      "     'KB_JB838_1893-08-13_01-00005.txt',\n",
      "     'KB_JB838_1893-08-19_01-00003.txt',\n",
      "     'KB_JB838_1893-08-25_01-00001.txt',\n",
      "     'KB_JB838_1893-09-10_01-00002.txt',\n",
      "     'KB_JB838_1893-09-13_01-00002.txt',\n",
      "     'KB_JB838_1893-09-16_01-00001.txt',\n",
      "     'KB_JB838_1893-09-19_01-00001.txt',\n",
      "     'KB_JB838_1893-09-27_01-00001.txt',\n",
      "     'KB_JB838_1893-10-08_01-00006.txt',\n",
      "     'KB_JB838_1893-10-15_01-00001.txt',\n",
      "     'KB_JB838_1893-10-20_01-00002.txt',\n",
      "     'KB_JB838_1893-10-24_01-00001.txt',\n",
      "     'KB_JB838_1893-10-25_01-00002.txt',\n",
      "     'KB_JB838_1893-11-13_01-00006.txt',\n",
      "     'KB_JB838_1893-11-15_01-00001.txt',\n",
      "     'KB_JB838_1893-11-17_01-00001.txt',\n",
      "     'KB_JB838_1893-12-15_01-00001.txt',\n",
      "     'KB_JB838_1893-12-16_01-00002.txt',\n",
      "     'KB_JB838_1893-12-30_01-00002.txt',\n",
      "     'KB_JB838_1894-01-04_01-00005.txt',\n",
      "     'KB_JB838_1894-01-11_01-00005.txt',\n",
      "     'KB_JB838_1894-01-14_01-00001.txt',\n",
      "     'KB_JB838_1894-01-17_01-00001.txt',\n",
      "     'KB_JB838_1894-01-18_01-00002.txt',\n",
      "     'KB_JB838_1894-01-23_01-00002.txt',\n",
      "     'KB_JB838_1894-02-10_01-00003.txt',\n",
      "     'KB_JB838_1894-02-11_01-00006.txt',\n",
      "     'KB_JB838_1894-02-27_01-00001.txt',\n",
      "     'KB_JB838_1894-02-27_01-00002.txt',\n",
      "     'KB_JB838_1894-03-02_01-00001.txt',\n",
      "     'KB_JB838_1894-03-03_01-00002.txt',\n",
      "     'KB_JB838_1894-03-18_01-00001.txt',\n",
      "     'KB_JB838_1894-03-20_01-00002.txt',\n",
      "     'KB_JB838_1894-03-21_01-00002.txt',\n",
      "     'KB_JB838_1894-03-31_01-00002.txt',\n",
      "     'KB_JB838_1894-04-14_01-00002.txt',\n",
      "     'KB_JB838_1894-04-15_01-00004.txt',\n",
      "     'KB_JB838_1894-04-17_01-00001.txt',\n",
      "     'KB_JB838_1894-04-20_01-00001.txt',\n",
      "     'KB_JB838_1894-04-30_01-00001.txt',\n",
      "     'KB_JB838_1894-05-01_01-00001.txt',\n",
      "     'KB_JB838_1894-05-31_01-00003.txt',\n",
      "     'KB_JB838_1894-06-09_01-00002.txt',\n",
      "     'KB_JB838_1894-06-12_01-00002.txt',\n",
      "     'KB_JB838_1894-06-13_01-00001.txt',\n",
      "     'KB_JB838_1894-06-21_01-00001.txt',\n",
      "     'KB_JB838_1894-06-23_01-00003.txt',\n",
      "     'KB_JB838_1894-06-26_01-00002.txt',\n",
      "     'KB_JB838_1894-06-28_01-00005.txt',\n",
      "     'KB_JB838_1894-06-29_01-00003.txt',\n",
      "     'KB_JB838_1894-07-03_01-00002.txt',\n",
      "     'KB_JB838_1894-07-05_01-00005.txt',\n",
      "     'KB_JB838_1894-08-04_01-00002.txt',\n",
      "     'KB_JB838_1894-08-11_01-00003.txt',\n",
      "     'KB_JB838_1894-08-29_01-00002.txt',\n",
      "     'KB_JB838_1894-09-02_01-00006.txt',\n",
      "     'KB_JB838_1894-09-13_01-00002.txt',\n",
      "     'KB_JB838_1894-10-05_01-00001.txt',\n",
      "     'KB_JB838_1894-10-11_01-00005.txt',\n",
      "     'KB_JB838_1894-10-29_01-00002.txt',\n",
      "     'KB_JB838_1894-11-01_01-00005.txt',\n",
      "     'KB_JB838_1894-11-15_01-00001.txt',\n",
      "     'KB_JB838_1894-11-19_01-00002.txt',\n",
      "     'KB_JB838_1894-11-23_01-00001.txt',\n",
      "     'KB_JB838_1894-11-25_01-00006.txt',\n",
      "     'KB_JB838_1894-11-30_01-00001.txt',\n",
      "     'KB_JB838_1894-12-01_01-00001.txt',\n",
      "     'KB_JB838_1894-12-04_01-00002.txt',\n",
      "     'KB_JB838_1894-12-06_01-00002.txt',\n",
      "     'KB_JB838_1895-01-05_01-00002.txt',\n",
      "     'KB_JB838_1895-01-08_01-00008.txt',\n",
      "     'KB_JB838_1895-01-17_01-00006.txt',\n",
      "     'KB_JB838_1895-01-20_01-00008.txt',\n",
      "     'KB_JB838_1895-01-22_01-00002.txt',\n",
      "     'KB_JB838_1895-01-22_01-00006.txt',\n",
      "     'KB_JB838_1895-01-23_01-00002.txt',\n",
      "     'KB_JB838_1895-01-23_01-00005.txt',\n",
      "     'KB_JB838_1895-02-01_01-00003.txt',\n",
      "     'KB_JB838_1895-02-02_01-00002.txt',\n",
      "     'KB_JB838_1895-02-07_01-00001.txt',\n",
      "     'KB_JB838_1895-02-22_01-00001.txt',\n",
      "     'KB_JB838_1895-02-23_01-00001.txt',\n",
      "     'KB_JB838_1895-03-14_01-00001.txt',\n",
      "     'KB_JB838_1895-03-17_01-00005.txt',\n",
      "     'KB_JB838_1895-03-19_01-00001.txt',\n",
      "     'KB_JB838_1895-03-21_01-00007.txt',\n",
      "     'KB_JB838_1895-04-24_01-00006.txt',\n",
      "     'KB_JB838_1895-04-25_01-00001.txt',\n",
      "     'KB_JB838_1895-05-02_01-00007.txt',\n",
      "     'KB_JB838_1895-05-08_01-00005.txt',\n",
      "     'KB_JB838_1895-05-20_01-00001.txt',\n",
      "     'KB_JB838_1895-05-26_01-00001.txt',\n",
      "     'KB_JB838_1895-05-28_01-00001.txt',\n",
      "     'KB_JB838_1895-06-02_01-00002.txt',\n",
      "     'KB_JB838_1895-06-09_01-00002.txt',\n",
      "     'KB_JB838_1895-06-13_01-00005.txt',\n",
      "     'KB_JB838_1895-06-18_01-00001.txt',\n",
      "     'KB_JB838_1895-06-27_01-00007.txt',\n",
      "     'KB_JB838_1895-06-30_01-00005.txt',\n",
      "     'KB_JB838_1895-07-03_01-00001.txt',\n",
      "     'KB_JB838_1895-07-19_01-00002.txt',\n",
      "     'KB_JB838_1895-07-24_01-00001.txt',\n",
      "     'KB_JB838_1895-07-28_01-00002.txt',\n",
      "     'KB_JB838_1895-08-06_01-00001.txt',\n",
      "     'KB_JB838_1895-08-07_01-00003.txt',\n",
      "     'KB_JB838_1895-08-08_01-00006.txt',\n",
      "     'KB_JB838_1895-08-15_01-00007.txt',\n",
      "     'KB_JB838_1895-08-19_01-00002.txt',\n",
      "     'KB_JB838_1895-09-05_01-00001.txt',\n",
      "     'KB_JB838_1895-10-10_01-00001.txt',\n",
      "     'KB_JB838_1895-10-10_01-00005.txt',\n",
      "     'KB_JB838_1895-10-17_01-00005.txt',\n",
      "     'KB_JB838_1895-10-17_01-00007.txt',\n",
      "     'KB_JB838_1895-10-23_01-00002.txt',\n",
      "     'KB_JB838_1895-10-26_01-00002.txt',\n",
      "     'KB_JB838_1895-10-31_01-00005.txt',\n",
      "     'KB_JB838_1895-11-05_01-00001.txt',\n",
      "     'KB_JB838_1895-11-05_01-00002.txt',\n",
      "     'KB_JB838_1895-11-06_01-00001.txt',\n",
      "     'KB_JB838_1895-11-06_01-00005.txt',\n",
      "     'KB_JB838_1895-11-15_01-00001.txt',\n",
      "     'KB_JB838_1895-11-17_01-00001.txt',\n",
      "     'KB_JB838_1895-11-20_01-00008.txt',\n",
      "     'KB_JB838_1895-11-21_01-00001.txt',\n",
      "     'KB_JB838_1895-11-23_01-00001.txt',\n",
      "     'KB_JB838_1895-12-01_01-00002.txt',\n",
      "     'KB_JB838_1895-12-05_01-00006.txt',\n",
      "     'KB_JB838_1895-12-07_01-00001.txt',\n",
      "     'KB_JB838_1895-12-15_01-00002.txt',\n",
      "     'KB_JB838_1895-12-22_01-00006.txt',\n",
      "     'KB_JB838_1895-12-26_01-00003.txt',\n",
      "     'KB_JB838_1895-12-31_01-00001.txt',\n",
      "     'KB_JB838_1896-01-16_01-00005.txt',\n",
      "     'KB_JB838_1896-01-26_01-00001.txt',\n",
      "     'KB_JB838_1896-01-28_01-00002.txt',\n",
      "     'KB_JB838_1896-02-02_01-00005.txt',\n",
      "     'KB_JB838_1896-02-11_01-00001.txt',\n",
      "     'KB_JB838_1896-02-12_01-00002.txt',\n",
      "     'KB_JB838_1896-02-12_01-00004.txt',\n",
      "     'KB_JB838_1896-02-20_01-00005.txt',\n",
      "     'KB_JB838_1896-02-23_01-00001.txt',\n",
      "     'KB_JB838_1896-02-23_01-00005.txt',\n",
      "     'KB_JB838_1896-03-11_01-00005.txt',\n",
      "     'KB_JB838_1896-03-29_01-00001.txt',\n",
      "     'KB_JB838_1896-04-08_01-00002.txt',\n",
      "     'KB_JB838_1896-04-16_01-00006.txt',\n",
      "     'KB_JB838_1896-04-19_01-00008.txt',\n",
      "     'KB_JB838_1896-04-28_01-00001.txt',\n",
      "     'KB_JB838_1896-05-07_01-00005.txt',\n",
      "     'KB_JB838_1896-05-11_01-00001.txt',\n",
      "     'KB_JB838_1896-05-20_01-00006.txt',\n",
      "     'KB_JB838_1896-05-31_01-00001.txt',\n",
      "     'KB_JB838_1896-06-03_01-00001.txt',\n",
      "     'KB_JB838_1896-06-04_01-00001.txt',\n",
      "     'KB_JB838_1896-06-05_01-00001.txt',\n",
      "     'KB_JB838_1896-06-17_01-00002.txt',\n",
      "     'KB_JB838_1896-06-18_01-00006.txt',\n",
      "     'KB_JB838_1896-06-22_01-00001.txt',\n",
      "     'KB_JB838_1896-06-25_01-00005.txt',\n",
      "     'KB_JB838_1896-06-30_01-00001.txt',\n",
      "     'KB_JB838_1896-07-18_01-00001.txt',\n",
      "     'KB_JB838_1896-08-07_01-00002.txt',\n",
      "     'KB_JB838_1896-09-06_01-00005.txt',\n",
      "     'KB_JB838_1896-09-16_01-00002.txt',\n",
      "     'KB_JB838_1896-09-29_01-00002.txt',\n",
      "     'KB_JB838_1896-10-05_01-00001.txt',\n",
      "     'KB_JB838_1896-10-05_01-00002.txt',\n",
      "     'KB_JB838_1896-10-08_01-00009.txt',\n",
      "     'KB_JB838_1896-10-16_01-00001.txt',\n",
      "     'KB_JB838_1896-11-02_01-00001.txt',\n",
      "     'KB_JB838_1896-11-19_01-00006.txt',\n",
      "     'KB_JB838_1896-11-25_01-00002.txt',\n",
      "     'KB_JB838_1896-11-28_01-00001.txt',\n",
      "     'KB_JB838_1896-11-29_01-00006.txt',\n",
      "     'KB_JB838_1896-12-02_01-00005.txt',\n",
      "     'KB_JB838_1896-12-10_01-00002.txt',\n",
      "     'KB_JB838_1896-12-17_01-00006.txt',\n",
      "     'KB_JB838_1896-12-20_01-00002.txt',\n",
      "     'KB_JB838_1896-12-25_01-00001.txt',\n",
      "     'KB_JB838_1896-12-29_01-00002.txt',\n",
      "     'KB_JB838_1896-12-30_01-00005.txt',\n",
      "     'KB_JB838_1897-01-05_01-00001.txt',\n",
      "     'KB_JB838_1897-01-06_01-00005.txt',\n",
      "     'KB_JB838_1897-01-08_01-00001.txt',\n",
      "     'KB_JB838_1897-01-21_01-00007.txt',\n",
      "     'KB_JB838_1897-01-24_01-00002.txt',\n",
      "     'KB_JB838_1897-01-27_01-00001.txt',\n",
      "     'KB_JB838_1897-02-03_01-00002.txt',\n",
      "     'KB_JB838_1897-02-04_01-00001.txt',\n",
      "     'KB_JB838_1897-02-04_01-00006.txt',\n",
      "     'KB_JB838_1897-02-12_01-00002.txt',\n",
      "     'KB_JB838_1897-02-13_01-00001.txt',\n",
      "     'KB_JB838_1897-02-25_01-00001.txt',\n",
      "     'KB_JB838_1897-03-02_01-00002.txt',\n",
      "     'KB_JB838_1897-03-11_01-00006.txt',\n",
      "     'KB_JB838_1897-03-12_01-00001.txt',\n",
      "     'KB_JB838_1897-03-16_01-00002.txt',\n",
      "     'KB_JB838_1897-03-19_01-00002.txt',\n",
      "     'KB_JB838_1897-03-28_01-00002.txt',\n",
      "     'KB_JB838_1897-04-01_01-00001.txt',\n",
      "     'KB_JB838_1897-04-08_01-00002.txt',\n",
      "     'KB_JB838_1897-04-28_01-00001.txt',\n",
      "     'KB_JB838_1897-05-11_01-00002.txt',\n",
      "     'KB_JB838_1897-05-15_01-00002.txt',\n",
      "     'KB_JB838_1897-05-30_01-00001.txt',\n",
      "     'KB_JB838_1897-06-02_01-00002.txt',\n",
      "     'KB_JB838_1897-06-05_01-00001.txt',\n",
      "     'KB_JB838_1897-06-06_01-00001.txt',\n",
      "     'KB_JB838_1897-06-09_01-00001.txt',\n",
      "     'KB_JB838_1897-06-12_01-00001.txt',\n",
      "     'KB_JB838_1897-06-20_01-00001.txt',\n",
      "     'KB_JB838_1897-06-23_01-00001.txt',\n",
      "     'KB_JB838_1897-06-27_01-00006.txt',\n",
      "     'KB_JB838_1897-07-05_01-00002.txt',\n",
      "     'KB_JB838_1897-07-14_01-00001.txt',\n",
      "     'KB_JB838_1897-07-21_01-00001.txt',\n",
      "     'KB_JB838_1897-07-29_01-00007.txt',\n",
      "     'KB_JB838_1897-08-10_01-00005.txt',\n",
      "     'KB_JB838_1897-08-12_01-00007.txt',\n",
      "     'KB_JB838_1897-08-20_01-00002.txt',\n",
      "     'KB_JB838_1897-08-28_01-00001.txt',\n",
      "     'KB_JB838_1897-08-29_01-00002.txt',\n",
      "     'KB_JB838_1897-09-05_01-00001.txt',\n",
      "     'KB_JB838_1897-09-08_01-00006.txt',\n",
      "     'KB_JB838_1897-09-12_01-00001.txt',\n",
      "     'KB_JB838_1897-09-15_01-00005.txt',\n",
      "     'KB_JB838_1897-09-22_01-00001.txt',\n",
      "     'KB_JB838_1897-09-27_01-00001.txt',\n",
      "     'KB_JB838_1897-10-07_01-00002.txt',\n",
      "     'KB_JB838_1897-10-10_01-00006.txt',\n",
      "     'KB_JB838_1897-10-15_01-00007.txt',\n",
      "     'KB_JB838_1897-10-24_01-00005.txt',\n",
      "     'KB_JB838_1897-10-26_01-00002.txt',\n",
      "     'KB_JB838_1897-11-20_01-00001.txt',\n",
      "     'KB_JB838_1897-12-04_01-00006.txt',\n",
      "     'KB_JB838_1897-12-05_01-00002.txt',\n",
      "     'KB_JB838_1897-12-07_01-00002.txt',\n",
      "     'KB_JB838_1897-12-10_01-00002.txt',\n",
      "     'KB_JB838_1897-12-11_01-00001.txt',\n",
      "     'KB_JB838_1897-12-16_01-00007.txt',\n",
      "     'KB_JB838_1897-12-19_01-00005.txt',\n",
      "     'KB_JB838_1897-12-22_01-00002.txt',\n",
      "     'KB_JB838_1897-12-30_01-00002.txt',\n",
      "     'KB_JB838_1898-01-02_01-00001.txt',\n",
      "     'KB_JB838_1898-01-22_01-00001.txt',\n",
      "     'KB_JB838_1898-01-29_01-00001.txt',\n",
      "     'KB_JB838_1898-02-03_01-00001.txt',\n",
      "     'KB_JB838_1898-02-14_01-00002.txt',\n",
      "     'KB_JB838_1898-02-28_01-00002.txt',\n",
      "     'KB_JB838_1898-03-06_01-00005.txt',\n",
      "     'KB_JB838_1898-03-10_01-00007.txt',\n",
      "     'KB_JB838_1898-03-13_01-00001.txt',\n",
      "     'KB_JB838_1898-03-18_01-00001.txt',\n",
      "     'KB_JB838_1898-03-27_01-00005.txt',\n",
      "     'KB_JB838_1898-04-13_01-00005.txt',\n",
      "     'KB_JB838_1898-04-17_01-00002.txt',\n",
      "     'KB_JB838_1898-04-19_01-00002.txt',\n",
      "     'KB_JB838_1898-04-22_01-00001.txt',\n",
      "     'KB_JB838_1898-04-25_01-00002.txt',\n",
      "     'KB_JB838_1898-04-28_01-00006.txt',\n",
      "     'KB_JB838_1898-05-14_01-00005.txt',\n",
      "     'KB_JB838_1898-05-22_01-00001.txt',\n",
      "     'KB_JB838_1898-06-03_01-00001.txt',\n",
      "     'KB_JB838_1898-06-10_01-00001.txt',\n",
      "     'KB_JB838_1898-06-15_01-00002.txt',\n",
      "     'KB_JB838_1898-06-19_01-00001.txt',\n",
      "     'KB_JB838_1898-06-19_01-00005.txt',\n",
      "     'KB_JB838_1898-06-22_01-00005.txt',\n",
      "     'KB_JB838_1898-06-25_01-00002.txt',\n",
      "     'KB_JB838_1898-06-28_01-00001.txt',\n",
      "     'KB_JB838_1898-07-14_01-00007.txt',\n",
      "     'KB_JB838_1898-07-21_01-00006.txt',\n",
      "     'KB_JB838_1898-07-23_01-00002.txt',\n",
      "     'KB_JB838_1898-07-27_01-00001.txt',\n",
      "     'KB_JB838_1898-07-29_01-00002.txt',\n",
      "     'KB_JB838_1898-08-11_01-00006.txt',\n",
      "     'KB_JB838_1898-08-11_01-00007.txt',\n",
      "     'KB_JB838_1898-08-27_01-00001.txt',\n",
      "     'KB_JB838_1898-08-28_01-00001.txt',\n",
      "     'KB_JB838_1898-09-08_01-00005.txt',\n",
      "     'KB_JB838_1898-09-13_01-00001.txt',\n",
      "     'KB_JB838_1898-09-22_01-00006.txt',\n",
      "     'KB_JB838_1898-09-23_01-00003.txt',\n",
      "     'KB_JB838_1898-09-25_01-00002.txt',\n",
      "     'KB_JB838_1898-09-28_01-00002.txt',\n",
      "     'KB_JB838_1898-09-29_01-00002.txt',\n",
      "     'KB_JB838_1898-10-03_01-00001.txt',\n",
      "     'KB_JB838_1898-10-05_01-00002.txt',\n",
      "     'KB_JB838_1898-10-09_01-00001.txt',\n",
      "     'KB_JB838_1898-10-19_01-00002.txt',\n",
      "     'KB_JB838_1898-11-16_01-00001.txt',\n",
      "     'KB_JB838_1898-11-19_01-00001.txt',\n",
      "     'KB_JB838_1898-11-25_01-00005.txt',\n",
      "     'KB_JB838_1898-12-01_01-00001.txt',\n",
      "     'KB_JB838_1898-12-05_01-00001.txt',\n",
      "     'KB_JB838_1898-12-26_01-00001.txt']}\n"
     ]
    }
   ],
   "source": [
    "pprint(dict(clustering))"
   ]
  },
  {
   "cell_type": "markdown",
   "id": "f648bce5-d1c4-417a-8294-a1e23761155b",
   "metadata": {},
   "source": [
    "## Visualiser les clusters"
   ]
  },
  {
   "cell_type": "markdown",
   "id": "66647c57-1b9a-4554-953b-b70b3e0c685f",
   "metadata": {},
   "source": [
    "### Réduire les vecteurs à 2 dimensions à l'aide de l'algorithme PCA\n",
    "Cette étape est nécessaire afin de visualiser les documents dans un espace 2D\n",
    "\n",
    "https://fr.wikipedia.org/wiki/Analyse_en_composantes_principales"
   ]
  },
  {
   "cell_type": "code",
   "execution_count": 26,
   "id": "8d344cbe-9f82-49f7-a836-618855bdc04a",
   "metadata": {},
   "outputs": [],
   "source": [
    "pca = PCA(n_components=2)\n",
    "reduced_vectors = pca.fit_transform(tfidf_vectors.toarray())"
   ]
  },
  {
   "cell_type": "code",
   "execution_count": 27,
   "id": "c0cdbafe-df81-428a-aa36-f2de15e59284",
   "metadata": {},
   "outputs": [
    {
     "data": {
      "text/plain": [
       "array([[-0.06483057,  0.32212467],\n",
       "       [-0.10970754,  0.07406078],\n",
       "       [-0.19070251, -0.0637259 ],\n",
       "       [-0.0560365 ,  0.01430219],\n",
       "       [-0.196596  , -0.08867065],\n",
       "       [-0.19048768, -0.03828262],\n",
       "       [-0.22759925, -0.0839462 ],\n",
       "       [-0.07096171,  0.58739503],\n",
       "       [ 0.12360155,  0.44969476],\n",
       "       [-0.09486611,  0.19987745]])"
      ]
     },
     "execution_count": 27,
     "metadata": {},
     "output_type": "execute_result"
    }
   ],
   "source": [
    "reduced_vectors[:10]"
   ]
  },
  {
   "cell_type": "markdown",
   "id": "defd0183-1714-4511-a7c6-a9e3d97cbf25",
   "metadata": {},
   "source": [
    "### Générer le plot"
   ]
  },
  {
   "cell_type": "code",
   "execution_count": 28,
   "id": "6514e411-3e07-4f11-9add-af521b171fbe",
   "metadata": {},
   "outputs": [
    {
     "data": {
      "text/plain": [
       "<matplotlib.legend.Legend at 0x7f621ad293a0>"
      ]
     },
     "execution_count": 28,
     "metadata": {},
     "output_type": "execute_result"
    },
    {
     "data": {
      "image/png": "[encoded data removed]",
      "text/plain": [
       "<Figure size 1000x1000 with 1 Axes>"
      ]
     },
     "metadata": {},
     "output_type": "display_data"
    }
   ],
   "source": [
    "x_axis = reduced_vectors[:, 0]\n",
    "y_axis = reduced_vectors[:, 1]\n",
    "\n",
    "plt.figure(figsize=(10,10))\n",
    "scatter = plt.scatter(x_axis, y_axis, s=100, c=clusters)\n",
    "\n",
    "# Ajouter les centroïdes\n",
    "centroids = pca.transform(km_model.cluster_centers_)\n",
    "plt.scatter(centroids[:, 0], centroids[:, 1],  marker = \"x\", s=100, linewidths = 2, color='black')\n",
    "\n",
    "# Ajouter la légende\n",
    "plt.legend(handles=scatter.legend_elements()[0], labels=set(clusters), title=\"Clusters\")"
   ]
  },
  {
   "cell_type": "markdown",
   "id": "95be619e-65d4-4a3f-96cf-eb1e8fa5fcfa",
   "metadata": {},
   "source": [
    "# Word Embeddings : le modèle Word2Vec"
   ]
  },
  {
   "cell_type": "markdown",
   "id": "8a4f0e8a-b54c-4d41-b581-44cb3992f1d7",
   "metadata": {},
   "source": [
    "## Imports"
   ]
  },
  {
   "cell_type": "code",
   "execution_count": 1,
   "id": "b0eb4c34-4015-48e8-939a-96b38fa87bf3",
   "metadata": {},
   "outputs": [],
   "source": [
    "import sys\n",
    "\n",
    "from gensim.models.phrases import Phrases, Phraser\n",
    "from gensim.models import Word2Vec\n",
    "\n",
    "import nltk\n",
    "from nltk.tokenize import wordpunct_tokenize\n",
    "import os\n",
    "\n",
    "import nltk\n",
    "from nltk.tokenize import sent_tokenize\n",
    "\n",
    "from unidecode import unidecode"
   ]
  },
  {
   "cell_type": "markdown",
   "id": "9b3221f4-0664-414a-8be2-fa457cbade25",
   "metadata": {},
   "source": [
    "## Chargement et traitement des phrases du corpus"
   ]
  },
  {
   "cell_type": "markdown",
   "id": "8fa7af55-6416-4fe0-a680-e3b72b6f884e",
   "metadata": {},
   "source": [
    "### Création d'un objet qui *streame* les lignes d'un fichier pour économiser de la RAM"
   ]
  },
  {
   "cell_type": "code",
   "execution_count": 2,
   "id": "2d0626c6-e3a0-4916-9253-1a649fd958b8",
   "metadata": {},
   "outputs": [],
   "source": [
    "class MySentences(object):\n",
    "    \"\"\"Tokenize and Lemmatize sentences\"\"\"\n",
    "    def __init__(self, filename):\n",
    "        self.filename = filename\n",
    "\n",
    "    def __iter__(self):\n",
    "        for line in open(self.filename, encoding='utf-8', errors=\"backslashreplace\"):\n",
    "            yield [unidecode(w.lower()) for w in wordpunct_tokenize(line)]"
   ]
  },
  {
   "cell_type": "code",
   "execution_count": 3,
   "id": "8f6be215-2458-4317-9d63-0e51fb269f29",
   "metadata": {},
   "outputs": [],
   "source": [
    "infile = f\"../data/sents.txt\"\n",
    "sentences = MySentences(infile)"
   ]
  },
  {
   "cell_type": "markdown",
   "id": "e4a95356-8553-476d-b3a2-7241a96895c3",
   "metadata": {},
   "source": [
    "### Détection des bigrams\n",
    "\n",
    "Article intéressant sur le sujet : https://towardsdatascience.com/word2vec-for-phrases-learning-embeddings-for-more-than-one-word-727b6cf723cf"
   ]
  },
  {
   "cell_type": "code",
   "execution_count": 4,
   "id": "2a78eb6c-d627-4a8f-aca8-667f9543ecda",
   "metadata": {},
   "outputs": [],
   "source": [
    "bigram_phrases = Phrases(sentences)"
   ]
  },
  {
   "cell_type": "markdown",
   "id": "f218338f-5f20-4252-961d-4e57a1c78758",
   "metadata": {},
   "source": [
    "L'object `phrases` peut être vu comme un large dictionnaire d'expressions multi-mots associées à un score, le *PMI-like scoring*. Ce dictionnaire est construit par un apprentissage sur base d'exemples.\n",
    "Voir les références ci-dessous :\n",
    "- https://arxiv.org/abs/1310.4546\n",
    "- https://en.wikipedia.org/wiki/Pointwise_mutual_information"
   ]
  },
  {
   "cell_type": "code",
   "execution_count": 5,
   "id": "344c10e0-6405-4d52-a127-acdb91d87bb9",
   "metadata": {},
   "outputs": [
    {
     "data": {
      "text/plain": [
       "dict"
      ]
     },
     "execution_count": 5,
     "metadata": {},
     "output_type": "execute_result"
    }
   ],
   "source": [
    "type(bigram_phrases.vocab)"
   ]
  },
  {
   "cell_type": "markdown",
   "id": "fbbc170a-a07d-4d05-b088-0c6168e32fb3",
   "metadata": {},
   "source": [
    "Il contient de nombreuses clés qui sont autant de termes observés dans le corpus"
   ]
  },
  {
   "cell_type": "code",
   "execution_count": 6,
   "id": "a0c01904-6822-44c2-9d3f-bbc49634f4b8",
   "metadata": {},
   "outputs": [
    {
     "data": {
      "text/plain": [
       "15850647"
      ]
     },
     "execution_count": 6,
     "metadata": {},
     "output_type": "execute_result"
    }
   ],
   "source": [
    "len(bigram_phrases.vocab.keys())"
   ]
  },
  {
   "cell_type": "markdown",
   "id": "57425018-ce09-4431-8f3d-10b077be29d9",
   "metadata": {},
   "source": [
    "Prenons une clé au hasard :"
   ]
  },
  {
   "cell_type": "code",
   "execution_count": 7,
   "id": "3f94f58a-e34c-49cd-b910-5dbe37422513",
   "metadata": {},
   "outputs": [
    {
     "name": "stdout",
     "output_type": "stream",
     "text": [
      "1q\n"
     ]
    }
   ],
   "source": [
    "key_ = list(bigram_phrases.vocab.keys())[144]\n",
    "print(key_)"
   ]
  },
  {
   "cell_type": "markdown",
   "id": "e1e848fb-17ae-44e0-8848-cbca484298a2",
   "metadata": {},
   "source": [
    "Le dictionnaire indique le score de cette coocurrence :"
   ]
  },
  {
   "cell_type": "code",
   "execution_count": 8,
   "id": "e28a1565-1fea-4d6e-84c2-3f8d44148262",
   "metadata": {},
   "outputs": [
    {
     "data": {
      "text/plain": [
       "488"
      ]
     },
     "execution_count": 8,
     "metadata": {},
     "output_type": "execute_result"
    }
   ],
   "source": [
    "bigram_phrases.vocab[key_]"
   ]
  },
  {
   "cell_type": "markdown",
   "id": "8f2e3d8e-bf16-4e1e-bbf2-390b8343cf44",
   "metadata": {},
   "source": [
    "Lorsque l'instance de `Phrases` a été entraînée, elle peut concaténer les bigrams dans les phrases lorsque c'est pertinent."
   ]
  },
  {
   "cell_type": "markdown",
   "id": "00e751cc-fd38-4150-b7dd-f3fc4b484eca",
   "metadata": {},
   "source": [
    "### Conversion des `Phrases` en objet `Phraser`\n",
    "\n",
    "`Phraser` est un alias pour `gensim.models.phrases.FrozenPhrases`, voir ici https://radimrehurek.com/gensim/models/phrases.html.\n",
    "\n",
    "Le `Phraser` est une version *light* du `Phrases`, plus optimale pour transformer les phrases en concaténant les bigrams."
   ]
  },
  {
   "cell_type": "code",
   "execution_count": 9,
   "id": "3e182253-e90e-4129-9377-5ac33ea50e9e",
   "metadata": {},
   "outputs": [],
   "source": [
    "bigram_phraser = Phraser(phrases_model=bigram_phrases)"
   ]
  },
  {
   "cell_type": "markdown",
   "id": "a8e54fa4-21ab-46ab-8655-f6671c4f98e0",
   "metadata": {},
   "source": [
    "Le `Phraser` est un objet qui convertit certains unigrams d'une liste en bigrams lorsqu'ils ont été identifiés comme pertinents."
   ]
  },
  {
   "cell_type": "markdown",
   "id": "32078031-887e-44e4-aa5c-0d4ac48d01f3",
   "metadata": {},
   "source": [
    "### Extraction des trigrams"
   ]
  },
  {
   "cell_type": "markdown",
   "id": "d79dba79-bbb0-4bec-9aba-2bde13466259",
   "metadata": {},
   "source": [
    "Nous répétons l'opération en envoyant cette fois la liste de bigrams afin d'extraire les trigrams."
   ]
  },
  {
   "cell_type": "code",
   "execution_count": 10,
   "id": "8b5ef218-bbac-48a2-8089-dbc3d3eaeda8",
   "metadata": {},
   "outputs": [],
   "source": [
    "trigram_phrases = Phrases(bigram_phraser[sentences])"
   ]
  },
  {
   "cell_type": "code",
   "execution_count": 11,
   "id": "3c5d9098-6d74-4509-9f62-49c0289fd9fd",
   "metadata": {},
   "outputs": [],
   "source": [
    "trigram_phraser = Phraser(phrases_model=trigram_phrases)"
   ]
  },
  {
   "cell_type": "markdown",
   "id": "ea12f41c-bc52-492b-8e60-059571e7a119",
   "metadata": {},
   "source": [
    "### Création d'un corpus d'unigrams, bigrams, trigrams"
   ]
  },
  {
   "cell_type": "code",
   "execution_count": null,
   "id": "5bcf6cbe-5a05-427d-bf1f-4afb7677e44c",
   "metadata": {},
   "outputs": [],
   "source": [
    "corpus = list(trigram_phraser[bigram_phraser[sentences]])"
   ]
  },
  {
   "cell_type": "code",
   "execution_count": null,
   "id": "85290db4-cfba-4419-a514-a61211e46e8a",
   "metadata": {},
   "outputs": [],
   "source": [
    "print(corpus[:100])"
   ]
  },
  {
   "cell_type": "markdown",
   "id": "17730056-8ed2-483d-a465-64b21db15395",
   "metadata": {},
   "source": [
    "## Entrainement d'un modèle Word2Vec sur ce corpus"
   ]
  },
  {
   "cell_type": "code",
   "execution_count": null,
   "id": "3bc065cb-2b1a-48ce-8d19-51d24f7f5a6e",
   "metadata": {},
   "outputs": [],
   "source": [
    "%%time\n",
    "model = Word2Vec(\n",
    "    corpus, # On passe le corpus de ngrams que nous venons de créer\n",
    "    vector_size=32, # Le nombre de dimensions dans lesquelles le contexte des mots devra être réduit, aka. vector_size\n",
    "    window=7, # La taille du \"contexte\", ici 5 mots avant et après le mot observé\n",
    "    min_count=8, # On ignore les mots qui n'apparaissent pas au moins 5 fois dans le corpus\n",
    "    workers=7, # Permet de paralléliser l'entraînement du modèle en 4 threads\n",
    "    epochs=10 # Nombre d'itérations du réseau de neurones sur le jeu de données pour ajuster les paramètres avec la descente de gradient, aka. epochs.\n",
    ")"
   ]
  },
  {
   "cell_type": "markdown",
   "id": "752fd11d-eca9-4c6d-b611-365c780db6e7",
   "metadata": {},
   "source": [
    "#### Remarque\n",
    "\n",
    "Vous voyez ici que l'entrainement du modèle est parallélisé (sur 4 workers).\n",
    "\n",
    "Lors qu'on parallélise l'entrainement du modèle, 4 modèles \"séparés\" sont entrainés sur environ un quart des phrases.\n",
    "\n",
    "Ensuite, les résultats sont agrégés pour ne plus faire qu'un seul modèle.\n",
    "\n",
    "On ne peut prédire quel worker aura quelle phrase, car il y a des aléas lors de la parallélisation (p. ex. un worker qui serait plus lent, etc.).\n",
    "\n",
    "Du coup, les valeurs peuvent varier légèrement d'un entrainement à l'autre.\n",
    "\n",
    "Mais, globalement, les résultats restent cohérents."
   ]
  },
  {
   "cell_type": "markdown",
   "id": "500fb351-385c-4bb9-a6b8-b75592aa9abd",
   "metadata": {},
   "source": [
    "### Sauver le modèle dans un fichier"
   ]
  },
  {
   "cell_type": "code",
   "execution_count": null,
   "id": "ed8924bc-a108-4dd1-b7f0-6df30bb8b01a",
   "metadata": {},
   "outputs": [],
   "source": [
    "outfile = f\"../data/newspapers.model\"\n",
    "model.save(outfile)"
   ]
  },
  {
   "cell_type": "markdown",
   "id": "d51f74a7-25a5-4560-bdf0-433564d437e9",
   "metadata": {},
   "source": [
    "## Explorer le modèle"
   ]
  },
  {
   "cell_type": "markdown",
   "id": "50fffd55-739d-4559-a117-69fc68544769",
   "metadata": {},
   "source": [
    "### Charger le modèle en mémoire"
   ]
  },
  {
   "cell_type": "code",
   "execution_count": null,
   "id": "8ac4f7a8-28f8-4a54-a5fd-2c24979663fa",
   "metadata": {},
   "outputs": [],
   "source": [
    "model = Word2Vec.load(\"../data/newspapers.model\")"
   ]
  },
  {
   "cell_type": "markdown",
   "id": "c70cbc2a-175a-4b13-be5f-0123aec1e15f",
   "metadata": {},
   "source": [
    "### Imprimer le vecteur d'un terme"
   ]
  },
  {
   "cell_type": "code",
   "execution_count": null,
   "id": "ba00a8c7-f94e-4a9b-aa48-9b611d151916",
   "metadata": {},
   "outputs": [],
   "source": [
    "model.wv[\"journal\"]"
   ]
  },
  {
   "cell_type": "markdown",
   "id": "d7b3ae49-4601-4221-b38c-9699a7e17cd9",
   "metadata": {},
   "source": [
    "### Calculer la similarité entre deux termes"
   ]
  },
  {
   "cell_type": "code",
   "execution_count": null,
   "id": "0eba7a2f-edc1-420e-b7e5-afba80f700fb",
   "metadata": {},
   "outputs": [],
   "source": [
    "model.wv.similarity(\"journal\", \"livre\")"
   ]
  },
  {
   "cell_type": "code",
   "execution_count": null,
   "id": "6ec0fa0f-7480-4be8-b87e-2d450098a2c7",
   "metadata": {},
   "outputs": [],
   "source": [
    "model.wv.similarity(\"journal\", \"jour\")"
   ]
  },
  {
   "cell_type": "code",
   "execution_count": null,
   "id": "7f73107e-914e-4f22-9879-3c8f47495cd3",
   "metadata": {},
   "outputs": [],
   "source": [
    "model.wv.similarity(\"livre\", \"jour\")"
   ]
  },
  {
   "cell_type": "markdown",
   "id": "7f6bac38-99aa-4657-af66-119ff92b793d",
   "metadata": {},
   "source": [
    "### Chercher les mots les plus proches d'un terme donné"
   ]
  },
  {
   "cell_type": "code",
   "execution_count": null,
   "id": "baf40f32-fee9-4c41-b21f-a46697576f41",
   "metadata": {},
   "outputs": [],
   "source": [
    "model.wv.most_similar(\"rubrique\", topn=10)"
   ]
  },
  {
   "cell_type": "code",
   "execution_count": null,
   "id": "380fde66-b883-4d82-8029-50f0ab30810e",
   "metadata": {},
   "outputs": [],
   "source": [
    "model.wv.most_similar(\"revue\", topn=10)"
   ]
  },
  {
   "cell_type": "code",
   "execution_count": null,
   "id": "01e29d51-ad59-4ebd-a36b-d323168cb5cc",
   "metadata": {},
   "outputs": [],
   "source": [
    "model.wv.most_similar(\"annonce\", topn=10)"
   ]
  },
  {
   "cell_type": "markdown",
   "id": "20577c19-189d-4d8e-90d3-30419a375e7d",
   "metadata": {},
   "source": [
    "### Faire des recherches complexes à travers l'espace vectoriel"
   ]
  },
  {
   "cell_type": "code",
   "execution_count": null,
   "id": "4928b5f9-f0ef-4c3f-ab74-2e874ac314b0",
   "metadata": {},
   "outputs": [],
   "source": [
    "print(model.wv.most_similar(positive=['rubrique', 'revue'], negative=['livre']))"
   ]
  },
  {
   "cell_type": "code",
   "execution_count": null,
   "id": "f2779802-852a-407f-b544-1d8d2c38b9a7",
   "metadata": {},
   "outputs": [],
   "source": [
    "print(model.wv.most_similar(positive=['journal', 'livre'], negative=['librairie']))"
   ]
  },
  {
   "cell_type": "code",
   "execution_count": null,
   "id": "4e73aa0f-ec29-4eb3-87a3-de4986c08166",
   "metadata": {},
   "outputs": [],
   "source": [
    "print(model.wv.most_similar(positive=['annonce', 'publication'], negative=['bibliotheque']))"
   ]
  },
  {
   "cell_type": "code",
   "execution_count": null,
   "id": "8ce6d3cb-896b-469c-babc-75fb94fd9199",
   "metadata": {},
   "outputs": [],
   "source": []
  },
  {
   "cell_type": "code",
   "execution_count": null,
   "id": "4ddb1d39-efc2-491a-8d06-cd441fc6f9b1",
   "metadata": {},
   "outputs": [],
   "source": []
  },
  {
   "cell_type": "code",
   "execution_count": null,
   "id": "8228859b-b798-4e28-b1df-c9aef0d4cc53",
   "metadata": {},
   "outputs": [],
   "source": []
  }
 ],
 "metadata": {
  "kernelspec": {
   "display_name": "Python 3 (ipykernel)",
   "language": "python",
   "name": "python3"
  },
  "language_info": {
   "codemirror_mode": {
    "name": "ipython",
    "version": 3
   },
   "file_extension": ".py",
   "mimetype": "text/x-python",
   "name": "python",
   "nbconvert_exporter": "python",
   "pygments_lexer": "ipython3",
   "version": "3.9.15"
  }
 },
 "nbformat": 4,
 "nbformat_minor": 5
}
